{
 "cells": [
  {
   "cell_type": "code",
   "execution_count": null,
   "metadata": {},
   "outputs": [],
   "source": [
    "import pandas as pd \n",
    "import numpy as np\n",
    "import matplotlib.pyplot as plt\n",
    "import seaborn as sns\n",
    "import warnings\n",
    "warnings.filterwarnings('ignore')\n",
    "from scipy import stats"
   ]
  },
  {
   "cell_type": "code",
   "execution_count": null,
   "metadata": {},
   "outputs": [],
   "source": [
    "mh=pd.read_csv('Melbourne_housing_FULL.csv')"
   ]
  },
  {
   "cell_type": "code",
   "execution_count": 9,
   "metadata": {},
   "outputs": [
    {
     "name": "stdout",
     "output_type": "stream",
     "text": [
      "<class 'pandas.core.frame.DataFrame'>\n",
      "RangeIndex: 34857 entries, 0 to 34856\n",
      "Data columns (total 22 columns):\n",
      "Suburb           34857 non-null object\n",
      "Address          34857 non-null object\n",
      "Rooms            34857 non-null int64\n",
      "Type             34857 non-null object\n",
      "Method           34857 non-null object\n",
      "SellerG          34857 non-null object\n",
      "Date             34857 non-null object\n",
      "Distance         34856 non-null float64\n",
      "Postcode         34856 non-null float64\n",
      "Bedroom          26640 non-null float64\n",
      "Bathroom         26631 non-null float64\n",
      "Car              26129 non-null float64\n",
      "Landsize         23047 non-null float64\n",
      "BuildingArea     13760 non-null object\n",
      "YearBuilt        15551 non-null float64\n",
      "CouncilArea      34854 non-null object\n",
      "Latitude         26881 non-null float64\n",
      "Longtitude       26881 non-null float64\n",
      "Regionname       34857 non-null object\n",
      "Propertycount    34854 non-null float64\n",
      "ParkingArea      34857 non-null object\n",
      "Price            27247 non-null float64\n",
      "dtypes: float64(11), int64(1), object(10)\n",
      "memory usage: 5.9+ MB\n"
     ]
    }
   ],
   "source": [
    "mh.info()"
   ]
  },
  {
   "cell_type": "code",
   "execution_count": 10,
   "metadata": {},
   "outputs": [
    {
     "data": {
      "text/html": [
       "<div>\n",
       "<style scoped>\n",
       "    .dataframe tbody tr th:only-of-type {\n",
       "        vertical-align: middle;\n",
       "    }\n",
       "\n",
       "    .dataframe tbody tr th {\n",
       "        vertical-align: top;\n",
       "    }\n",
       "\n",
       "    .dataframe thead th {\n",
       "        text-align: right;\n",
       "    }\n",
       "</style>\n",
       "<table border=\"1\" class=\"dataframe\">\n",
       "  <thead>\n",
       "    <tr style=\"text-align: right;\">\n",
       "      <th></th>\n",
       "      <th>Suburb</th>\n",
       "      <th>Address</th>\n",
       "      <th>Rooms</th>\n",
       "      <th>Type</th>\n",
       "      <th>Method</th>\n",
       "      <th>SellerG</th>\n",
       "      <th>Date</th>\n",
       "      <th>Distance</th>\n",
       "      <th>Postcode</th>\n",
       "      <th>Bedroom</th>\n",
       "      <th>...</th>\n",
       "      <th>Landsize</th>\n",
       "      <th>BuildingArea</th>\n",
       "      <th>YearBuilt</th>\n",
       "      <th>CouncilArea</th>\n",
       "      <th>Latitude</th>\n",
       "      <th>Longtitude</th>\n",
       "      <th>Regionname</th>\n",
       "      <th>Propertycount</th>\n",
       "      <th>ParkingArea</th>\n",
       "      <th>Price</th>\n",
       "    </tr>\n",
       "  </thead>\n",
       "  <tbody>\n",
       "    <tr>\n",
       "      <th>0</th>\n",
       "      <td>Abbotsford</td>\n",
       "      <td>68 Studley St</td>\n",
       "      <td>2</td>\n",
       "      <td>h</td>\n",
       "      <td>SS</td>\n",
       "      <td>Jellis</td>\n",
       "      <td>3/9/2016</td>\n",
       "      <td>2.5</td>\n",
       "      <td>3067.0</td>\n",
       "      <td>2.0</td>\n",
       "      <td>...</td>\n",
       "      <td>126.0</td>\n",
       "      <td>inf</td>\n",
       "      <td>NaN</td>\n",
       "      <td>Yarra City Council</td>\n",
       "      <td>-37.80140</td>\n",
       "      <td>144.99580</td>\n",
       "      <td>Northern Metropolitan</td>\n",
       "      <td>4019.0</td>\n",
       "      <td>Carport</td>\n",
       "      <td>NaN</td>\n",
       "    </tr>\n",
       "    <tr>\n",
       "      <th>1</th>\n",
       "      <td>Airport West</td>\n",
       "      <td>154 Halsey Rd</td>\n",
       "      <td>3</td>\n",
       "      <td>t</td>\n",
       "      <td>PI</td>\n",
       "      <td>Nelson</td>\n",
       "      <td>3/9/2016</td>\n",
       "      <td>13.5</td>\n",
       "      <td>3042.0</td>\n",
       "      <td>3.0</td>\n",
       "      <td>...</td>\n",
       "      <td>303.0</td>\n",
       "      <td>225</td>\n",
       "      <td>2016.0</td>\n",
       "      <td>Moonee Valley City Council</td>\n",
       "      <td>-37.71800</td>\n",
       "      <td>144.87800</td>\n",
       "      <td>Western Metropolitan</td>\n",
       "      <td>3464.0</td>\n",
       "      <td>Detached Garage</td>\n",
       "      <td>840000.0</td>\n",
       "    </tr>\n",
       "    <tr>\n",
       "      <th>2</th>\n",
       "      <td>Albert Park</td>\n",
       "      <td>105 Kerferd Rd</td>\n",
       "      <td>2</td>\n",
       "      <td>h</td>\n",
       "      <td>S</td>\n",
       "      <td>hockingstuart</td>\n",
       "      <td>3/9/2016</td>\n",
       "      <td>3.3</td>\n",
       "      <td>3206.0</td>\n",
       "      <td>2.0</td>\n",
       "      <td>...</td>\n",
       "      <td>120.0</td>\n",
       "      <td>82</td>\n",
       "      <td>1900.0</td>\n",
       "      <td>Port Phillip City Council</td>\n",
       "      <td>-37.84590</td>\n",
       "      <td>144.95550</td>\n",
       "      <td>Southern Metropolitan</td>\n",
       "      <td>3280.0</td>\n",
       "      <td>Attached Garage</td>\n",
       "      <td>1275000.0</td>\n",
       "    </tr>\n",
       "    <tr>\n",
       "      <th>3</th>\n",
       "      <td>Albert Park</td>\n",
       "      <td>85 Richardson St</td>\n",
       "      <td>2</td>\n",
       "      <td>h</td>\n",
       "      <td>S</td>\n",
       "      <td>Thomson</td>\n",
       "      <td>3/9/2016</td>\n",
       "      <td>3.3</td>\n",
       "      <td>3206.0</td>\n",
       "      <td>2.0</td>\n",
       "      <td>...</td>\n",
       "      <td>159.0</td>\n",
       "      <td>inf</td>\n",
       "      <td>NaN</td>\n",
       "      <td>Port Phillip City Council</td>\n",
       "      <td>-37.84500</td>\n",
       "      <td>144.95380</td>\n",
       "      <td>Southern Metropolitan</td>\n",
       "      <td>3280.0</td>\n",
       "      <td>Indoor</td>\n",
       "      <td>1455000.0</td>\n",
       "    </tr>\n",
       "    <tr>\n",
       "      <th>4</th>\n",
       "      <td>Alphington</td>\n",
       "      <td>30 Austin St</td>\n",
       "      <td>3</td>\n",
       "      <td>h</td>\n",
       "      <td>SN</td>\n",
       "      <td>McGrath</td>\n",
       "      <td>3/9/2016</td>\n",
       "      <td>6.4</td>\n",
       "      <td>3078.0</td>\n",
       "      <td>3.0</td>\n",
       "      <td>...</td>\n",
       "      <td>174.0</td>\n",
       "      <td>122</td>\n",
       "      <td>2003.0</td>\n",
       "      <td>Darebin City Council</td>\n",
       "      <td>-37.78180</td>\n",
       "      <td>145.01980</td>\n",
       "      <td>Northern Metropolitan</td>\n",
       "      <td>2211.0</td>\n",
       "      <td>Parkade</td>\n",
       "      <td>NaN</td>\n",
       "    </tr>\n",
       "    <tr>\n",
       "      <th>5</th>\n",
       "      <td>Alphington</td>\n",
       "      <td>6 Smith St</td>\n",
       "      <td>4</td>\n",
       "      <td>h</td>\n",
       "      <td>S</td>\n",
       "      <td>Brace</td>\n",
       "      <td>3/9/2016</td>\n",
       "      <td>6.4</td>\n",
       "      <td>3078.0</td>\n",
       "      <td>3.0</td>\n",
       "      <td>...</td>\n",
       "      <td>853.0</td>\n",
       "      <td>263</td>\n",
       "      <td>1930.0</td>\n",
       "      <td>Darebin City Council</td>\n",
       "      <td>-37.77070</td>\n",
       "      <td>145.03180</td>\n",
       "      <td>Northern Metropolitan</td>\n",
       "      <td>2211.0</td>\n",
       "      <td>Underground</td>\n",
       "      <td>2000000.0</td>\n",
       "    </tr>\n",
       "    <tr>\n",
       "      <th>6</th>\n",
       "      <td>Alphington</td>\n",
       "      <td>5/6 Yarralea St</td>\n",
       "      <td>3</td>\n",
       "      <td>h</td>\n",
       "      <td>S</td>\n",
       "      <td>Jellis</td>\n",
       "      <td>3/9/2016</td>\n",
       "      <td>6.4</td>\n",
       "      <td>3078.0</td>\n",
       "      <td>3.0</td>\n",
       "      <td>...</td>\n",
       "      <td>208.0</td>\n",
       "      <td>inf</td>\n",
       "      <td>2013.0</td>\n",
       "      <td>Darebin City Council</td>\n",
       "      <td>-37.78540</td>\n",
       "      <td>145.03250</td>\n",
       "      <td>Northern Metropolitan</td>\n",
       "      <td>2211.0</td>\n",
       "      <td>Outdoor Stall</td>\n",
       "      <td>1110000.0</td>\n",
       "    </tr>\n",
       "    <tr>\n",
       "      <th>7</th>\n",
       "      <td>Altona</td>\n",
       "      <td>158 Queen St</td>\n",
       "      <td>3</td>\n",
       "      <td>h</td>\n",
       "      <td>VB</td>\n",
       "      <td>Greg</td>\n",
       "      <td>3/9/2016</td>\n",
       "      <td>13.8</td>\n",
       "      <td>3018.0</td>\n",
       "      <td>3.0</td>\n",
       "      <td>...</td>\n",
       "      <td>352.0</td>\n",
       "      <td>242</td>\n",
       "      <td>2015.0</td>\n",
       "      <td>Hobsons Bay City Council</td>\n",
       "      <td>-37.87000</td>\n",
       "      <td>144.82500</td>\n",
       "      <td>Western Metropolitan</td>\n",
       "      <td>5301.0</td>\n",
       "      <td>Parking Pad</td>\n",
       "      <td>520000.0</td>\n",
       "    </tr>\n",
       "    <tr>\n",
       "      <th>8</th>\n",
       "      <td>Altona North</td>\n",
       "      <td>1 Beuron Rd</td>\n",
       "      <td>3</td>\n",
       "      <td>h</td>\n",
       "      <td>SP</td>\n",
       "      <td>Williams</td>\n",
       "      <td>3/9/2016</td>\n",
       "      <td>11.1</td>\n",
       "      <td>3025.0</td>\n",
       "      <td>3.0</td>\n",
       "      <td>...</td>\n",
       "      <td>620.0</td>\n",
       "      <td>108</td>\n",
       "      <td>1950.0</td>\n",
       "      <td>Hobsons Bay City Council</td>\n",
       "      <td>-37.82900</td>\n",
       "      <td>144.84800</td>\n",
       "      <td>Western Metropolitan</td>\n",
       "      <td>5132.0</td>\n",
       "      <td>Carport</td>\n",
       "      <td>NaN</td>\n",
       "    </tr>\n",
       "    <tr>\n",
       "      <th>9</th>\n",
       "      <td>Altona North</td>\n",
       "      <td>45 Hearn St</td>\n",
       "      <td>5</td>\n",
       "      <td>h</td>\n",
       "      <td>S</td>\n",
       "      <td>FN</td>\n",
       "      <td>3/9/2016</td>\n",
       "      <td>11.1</td>\n",
       "      <td>3025.0</td>\n",
       "      <td>5.0</td>\n",
       "      <td>...</td>\n",
       "      <td>592.0</td>\n",
       "      <td>251</td>\n",
       "      <td>1965.0</td>\n",
       "      <td>Hobsons Bay City Council</td>\n",
       "      <td>-37.83880</td>\n",
       "      <td>144.85670</td>\n",
       "      <td>Western Metropolitan</td>\n",
       "      <td>5132.0</td>\n",
       "      <td>Detached Garage</td>\n",
       "      <td>1085000.0</td>\n",
       "    </tr>\n",
       "    <tr>\n",
       "      <th>10</th>\n",
       "      <td>Altona North</td>\n",
       "      <td>4 Knapp St</td>\n",
       "      <td>3</td>\n",
       "      <td>h</td>\n",
       "      <td>S</td>\n",
       "      <td>Jas</td>\n",
       "      <td>3/9/2016</td>\n",
       "      <td>11.1</td>\n",
       "      <td>3025.0</td>\n",
       "      <td>3.0</td>\n",
       "      <td>...</td>\n",
       "      <td>533.0</td>\n",
       "      <td>117</td>\n",
       "      <td>1970.0</td>\n",
       "      <td>Hobsons Bay City Council</td>\n",
       "      <td>-37.82910</td>\n",
       "      <td>144.83500</td>\n",
       "      <td>Western Metropolitan</td>\n",
       "      <td>5132.0</td>\n",
       "      <td>Attached Garage</td>\n",
       "      <td>781000.0</td>\n",
       "    </tr>\n",
       "    <tr>\n",
       "      <th>11</th>\n",
       "      <td>Altona North</td>\n",
       "      <td>103 Sixth Av</td>\n",
       "      <td>4</td>\n",
       "      <td>h</td>\n",
       "      <td>S</td>\n",
       "      <td>hockingstuart</td>\n",
       "      <td>3/9/2016</td>\n",
       "      <td>11.1</td>\n",
       "      <td>3025.0</td>\n",
       "      <td>NaN</td>\n",
       "      <td>...</td>\n",
       "      <td>NaN</td>\n",
       "      <td>missing</td>\n",
       "      <td>NaN</td>\n",
       "      <td>Hobsons Bay City Council</td>\n",
       "      <td>NaN</td>\n",
       "      <td>NaN</td>\n",
       "      <td>Western Metropolitan</td>\n",
       "      <td>5132.0</td>\n",
       "      <td>Indoor</td>\n",
       "      <td>857500.0</td>\n",
       "    </tr>\n",
       "    <tr>\n",
       "      <th>12</th>\n",
       "      <td>Armadale</td>\n",
       "      <td>24 Hume St</td>\n",
       "      <td>3</td>\n",
       "      <td>h</td>\n",
       "      <td>S</td>\n",
       "      <td>RT</td>\n",
       "      <td>3/9/2016</td>\n",
       "      <td>6.3</td>\n",
       "      <td>3143.0</td>\n",
       "      <td>2.0</td>\n",
       "      <td>...</td>\n",
       "      <td>305.0</td>\n",
       "      <td>missing</td>\n",
       "      <td>NaN</td>\n",
       "      <td>Stonnington City Council</td>\n",
       "      <td>-37.85730</td>\n",
       "      <td>145.02260</td>\n",
       "      <td>Southern Metropolitan</td>\n",
       "      <td>4836.0</td>\n",
       "      <td>Parkade</td>\n",
       "      <td>NaN</td>\n",
       "    </tr>\n",
       "    <tr>\n",
       "      <th>13</th>\n",
       "      <td>Armadale</td>\n",
       "      <td>8/19 Mercer Rd</td>\n",
       "      <td>2</td>\n",
       "      <td>u</td>\n",
       "      <td>S</td>\n",
       "      <td>Jellis</td>\n",
       "      <td>3/9/2016</td>\n",
       "      <td>6.3</td>\n",
       "      <td>3143.0</td>\n",
       "      <td>2.0</td>\n",
       "      <td>...</td>\n",
       "      <td>0.0</td>\n",
       "      <td>76</td>\n",
       "      <td>1964.0</td>\n",
       "      <td>Stonnington City Council</td>\n",
       "      <td>-37.85430</td>\n",
       "      <td>145.02620</td>\n",
       "      <td>Southern Metropolitan</td>\n",
       "      <td>4836.0</td>\n",
       "      <td>Underground</td>\n",
       "      <td>599000.0</td>\n",
       "    </tr>\n",
       "    <tr>\n",
       "      <th>14</th>\n",
       "      <td>Ascot Vale</td>\n",
       "      <td>24 Ayr St</td>\n",
       "      <td>3</td>\n",
       "      <td>h</td>\n",
       "      <td>S</td>\n",
       "      <td>Jellis</td>\n",
       "      <td>3/9/2016</td>\n",
       "      <td>5.9</td>\n",
       "      <td>3032.0</td>\n",
       "      <td>3.0</td>\n",
       "      <td>...</td>\n",
       "      <td>305.0</td>\n",
       "      <td>135</td>\n",
       "      <td>1910.0</td>\n",
       "      <td>Moonee Valley City Council</td>\n",
       "      <td>-37.77990</td>\n",
       "      <td>144.92960</td>\n",
       "      <td>Western Metropolitan</td>\n",
       "      <td>6567.0</td>\n",
       "      <td>Carport</td>\n",
       "      <td>NaN</td>\n",
       "    </tr>\n",
       "    <tr>\n",
       "      <th>15</th>\n",
       "      <td>Ascot Vale</td>\n",
       "      <td>2/43 Roxburgh St</td>\n",
       "      <td>2</td>\n",
       "      <td>u</td>\n",
       "      <td>S</td>\n",
       "      <td>Nelson</td>\n",
       "      <td>3/9/2016</td>\n",
       "      <td>5.9</td>\n",
       "      <td>3032.0</td>\n",
       "      <td>3.0</td>\n",
       "      <td>...</td>\n",
       "      <td>0.0</td>\n",
       "      <td>missing</td>\n",
       "      <td>NaN</td>\n",
       "      <td>Moonee Valley City Council</td>\n",
       "      <td>-37.77560</td>\n",
       "      <td>144.91650</td>\n",
       "      <td>Western Metropolitan</td>\n",
       "      <td>6567.0</td>\n",
       "      <td>Detached Garage</td>\n",
       "      <td>455000.0</td>\n",
       "    </tr>\n",
       "    <tr>\n",
       "      <th>16</th>\n",
       "      <td>Ashburton</td>\n",
       "      <td>61 Dent St</td>\n",
       "      <td>4</td>\n",
       "      <td>h</td>\n",
       "      <td>S</td>\n",
       "      <td>Marshall</td>\n",
       "      <td>3/9/2016</td>\n",
       "      <td>11.0</td>\n",
       "      <td>3147.0</td>\n",
       "      <td>4.0</td>\n",
       "      <td>...</td>\n",
       "      <td>753.0</td>\n",
       "      <td>399</td>\n",
       "      <td>2015.0</td>\n",
       "      <td>Boroondara City Council</td>\n",
       "      <td>-37.86690</td>\n",
       "      <td>145.07670</td>\n",
       "      <td>Southern Metropolitan</td>\n",
       "      <td>3052.0</td>\n",
       "      <td>Attached Garage</td>\n",
       "      <td>2650000.0</td>\n",
       "    </tr>\n",
       "    <tr>\n",
       "      <th>17</th>\n",
       "      <td>Ashburton</td>\n",
       "      <td>1 Wilgra Av</td>\n",
       "      <td>2</td>\n",
       "      <td>h</td>\n",
       "      <td>S</td>\n",
       "      <td>Marshall</td>\n",
       "      <td>3/9/2016</td>\n",
       "      <td>11.0</td>\n",
       "      <td>3147.0</td>\n",
       "      <td>NaN</td>\n",
       "      <td>...</td>\n",
       "      <td>NaN</td>\n",
       "      <td>inf</td>\n",
       "      <td>NaN</td>\n",
       "      <td>Boroondara City Council</td>\n",
       "      <td>NaN</td>\n",
       "      <td>NaN</td>\n",
       "      <td>Southern Metropolitan</td>\n",
       "      <td>3052.0</td>\n",
       "      <td>Indoor</td>\n",
       "      <td>1820000.0</td>\n",
       "    </tr>\n",
       "    <tr>\n",
       "      <th>18</th>\n",
       "      <td>Ashwood</td>\n",
       "      <td>1/14 Eildon Rd</td>\n",
       "      <td>3</td>\n",
       "      <td>h</td>\n",
       "      <td>SP</td>\n",
       "      <td>Jellis</td>\n",
       "      <td>3/9/2016</td>\n",
       "      <td>12.2</td>\n",
       "      <td>3147.0</td>\n",
       "      <td>3.0</td>\n",
       "      <td>...</td>\n",
       "      <td>343.0</td>\n",
       "      <td>inf</td>\n",
       "      <td>1960.0</td>\n",
       "      <td>Monash City Council</td>\n",
       "      <td>-37.86230</td>\n",
       "      <td>145.10980</td>\n",
       "      <td>Southern Metropolitan</td>\n",
       "      <td>2894.0</td>\n",
       "      <td>Parkade</td>\n",
       "      <td>NaN</td>\n",
       "    </tr>\n",
       "    <tr>\n",
       "      <th>19</th>\n",
       "      <td>Ashwood</td>\n",
       "      <td>18 Teck St</td>\n",
       "      <td>2</td>\n",
       "      <td>h</td>\n",
       "      <td>S</td>\n",
       "      <td>Tim</td>\n",
       "      <td>3/9/2016</td>\n",
       "      <td>12.2</td>\n",
       "      <td>3147.0</td>\n",
       "      <td>2.0</td>\n",
       "      <td>...</td>\n",
       "      <td>583.0</td>\n",
       "      <td>inf</td>\n",
       "      <td>1950.0</td>\n",
       "      <td>Monash City Council</td>\n",
       "      <td>-37.86930</td>\n",
       "      <td>145.10820</td>\n",
       "      <td>Southern Metropolitan</td>\n",
       "      <td>2894.0</td>\n",
       "      <td>Carport</td>\n",
       "      <td>995000.0</td>\n",
       "    </tr>\n",
       "    <tr>\n",
       "      <th>20</th>\n",
       "      <td>Avondale Heights</td>\n",
       "      <td>13 MacEy Av</td>\n",
       "      <td>4</td>\n",
       "      <td>h</td>\n",
       "      <td>S</td>\n",
       "      <td>Jellis</td>\n",
       "      <td>3/9/2016</td>\n",
       "      <td>10.5</td>\n",
       "      <td>3034.0</td>\n",
       "      <td>NaN</td>\n",
       "      <td>...</td>\n",
       "      <td>NaN</td>\n",
       "      <td>missing</td>\n",
       "      <td>NaN</td>\n",
       "      <td>Moonee Valley City Council</td>\n",
       "      <td>NaN</td>\n",
       "      <td>NaN</td>\n",
       "      <td>Western Metropolitan</td>\n",
       "      <td>4502.0</td>\n",
       "      <td>Detached Garage</td>\n",
       "      <td>1310000.0</td>\n",
       "    </tr>\n",
       "    <tr>\n",
       "      <th>21</th>\n",
       "      <td>Avondale Heights</td>\n",
       "      <td>8 Norma Ct</td>\n",
       "      <td>3</td>\n",
       "      <td>h</td>\n",
       "      <td>S</td>\n",
       "      <td>Moonee</td>\n",
       "      <td>3/9/2016</td>\n",
       "      <td>10.5</td>\n",
       "      <td>3034.0</td>\n",
       "      <td>3.0</td>\n",
       "      <td>...</td>\n",
       "      <td>593.0</td>\n",
       "      <td>118</td>\n",
       "      <td>1970.0</td>\n",
       "      <td>Moonee Valley City Council</td>\n",
       "      <td>-37.76770</td>\n",
       "      <td>144.86740</td>\n",
       "      <td>Western Metropolitan</td>\n",
       "      <td>4502.0</td>\n",
       "      <td>Attached Garage</td>\n",
       "      <td>850000.0</td>\n",
       "    </tr>\n",
       "    <tr>\n",
       "      <th>22</th>\n",
       "      <td>Avondale Heights</td>\n",
       "      <td>9 Rogerson St</td>\n",
       "      <td>3</td>\n",
       "      <td>h</td>\n",
       "      <td>SP</td>\n",
       "      <td>Moonee</td>\n",
       "      <td>3/9/2016</td>\n",
       "      <td>10.5</td>\n",
       "      <td>3034.0</td>\n",
       "      <td>3.0</td>\n",
       "      <td>...</td>\n",
       "      <td>0.0</td>\n",
       "      <td>103</td>\n",
       "      <td>1980.0</td>\n",
       "      <td>Moonee Valley City Council</td>\n",
       "      <td>-37.76340</td>\n",
       "      <td>144.86110</td>\n",
       "      <td>Western Metropolitan</td>\n",
       "      <td>4502.0</td>\n",
       "      <td>Indoor</td>\n",
       "      <td>750000.0</td>\n",
       "    </tr>\n",
       "    <tr>\n",
       "      <th>23</th>\n",
       "      <td>Balaclava</td>\n",
       "      <td>18 Linton St</td>\n",
       "      <td>4</td>\n",
       "      <td>h</td>\n",
       "      <td>S</td>\n",
       "      <td>Gary</td>\n",
       "      <td>3/9/2016</td>\n",
       "      <td>6.6</td>\n",
       "      <td>3183.0</td>\n",
       "      <td>3.0</td>\n",
       "      <td>...</td>\n",
       "      <td>244.0</td>\n",
       "      <td>180</td>\n",
       "      <td>1900.0</td>\n",
       "      <td>Port Phillip City Council</td>\n",
       "      <td>-37.86680</td>\n",
       "      <td>144.99280</td>\n",
       "      <td>Southern Metropolitan</td>\n",
       "      <td>2952.0</td>\n",
       "      <td>Parkade</td>\n",
       "      <td>1819000.0</td>\n",
       "    </tr>\n",
       "    <tr>\n",
       "      <th>24</th>\n",
       "      <td>Balwyn</td>\n",
       "      <td>1/4 Glenluss St</td>\n",
       "      <td>3</td>\n",
       "      <td>t</td>\n",
       "      <td>S</td>\n",
       "      <td>Jellis</td>\n",
       "      <td>3/9/2016</td>\n",
       "      <td>9.7</td>\n",
       "      <td>3103.0</td>\n",
       "      <td>3.0</td>\n",
       "      <td>...</td>\n",
       "      <td>348.0</td>\n",
       "      <td>NaN</td>\n",
       "      <td>NaN</td>\n",
       "      <td>Boroondara City Council</td>\n",
       "      <td>-37.80530</td>\n",
       "      <td>145.09340</td>\n",
       "      <td>Southern Metropolitan</td>\n",
       "      <td>5682.0</td>\n",
       "      <td>Underground</td>\n",
       "      <td>NaN</td>\n",
       "    </tr>\n",
       "    <tr>\n",
       "      <th>25</th>\n",
       "      <td>Balwyn</td>\n",
       "      <td>166 Gordon St</td>\n",
       "      <td>2</td>\n",
       "      <td>h</td>\n",
       "      <td>S</td>\n",
       "      <td>Marshall</td>\n",
       "      <td>3/9/2016</td>\n",
       "      <td>9.7</td>\n",
       "      <td>3103.0</td>\n",
       "      <td>2.0</td>\n",
       "      <td>...</td>\n",
       "      <td>659.0</td>\n",
       "      <td>123</td>\n",
       "      <td>1920.0</td>\n",
       "      <td>Boroondara City Council</td>\n",
       "      <td>-37.80940</td>\n",
       "      <td>145.08070</td>\n",
       "      <td>Southern Metropolitan</td>\n",
       "      <td>5682.0</td>\n",
       "      <td>Outdoor Stall</td>\n",
       "      <td>2100000.0</td>\n",
       "    </tr>\n",
       "    <tr>\n",
       "      <th>26</th>\n",
       "      <td>Balwyn</td>\n",
       "      <td>36 Narrak Rd</td>\n",
       "      <td>4</td>\n",
       "      <td>h</td>\n",
       "      <td>VB</td>\n",
       "      <td>Marshall</td>\n",
       "      <td>3/9/2016</td>\n",
       "      <td>9.7</td>\n",
       "      <td>3103.0</td>\n",
       "      <td>4.0</td>\n",
       "      <td>...</td>\n",
       "      <td>715.0</td>\n",
       "      <td>218</td>\n",
       "      <td>1985.0</td>\n",
       "      <td>Boroondara City Council</td>\n",
       "      <td>-37.81100</td>\n",
       "      <td>145.09580</td>\n",
       "      <td>Southern Metropolitan</td>\n",
       "      <td>5682.0</td>\n",
       "      <td>Carport</td>\n",
       "      <td>1800000.0</td>\n",
       "    </tr>\n",
       "    <tr>\n",
       "      <th>27</th>\n",
       "      <td>Balwyn</td>\n",
       "      <td>2/16 Westminster St</td>\n",
       "      <td>2</td>\n",
       "      <td>t</td>\n",
       "      <td>S</td>\n",
       "      <td>Noel</td>\n",
       "      <td>3/9/2016</td>\n",
       "      <td>9.7</td>\n",
       "      <td>3103.0</td>\n",
       "      <td>2.0</td>\n",
       "      <td>...</td>\n",
       "      <td>208.0</td>\n",
       "      <td>129</td>\n",
       "      <td>2000.0</td>\n",
       "      <td>Boroondara City Council</td>\n",
       "      <td>-37.81280</td>\n",
       "      <td>145.09750</td>\n",
       "      <td>Southern Metropolitan</td>\n",
       "      <td>5682.0</td>\n",
       "      <td>Detached Garage</td>\n",
       "      <td>1255000.0</td>\n",
       "    </tr>\n",
       "    <tr>\n",
       "      <th>28</th>\n",
       "      <td>Balwyn North</td>\n",
       "      <td>3/41 Clifton St</td>\n",
       "      <td>3</td>\n",
       "      <td>t</td>\n",
       "      <td>S</td>\n",
       "      <td>hockingstuart</td>\n",
       "      <td>3/9/2016</td>\n",
       "      <td>9.2</td>\n",
       "      <td>3104.0</td>\n",
       "      <td>3.0</td>\n",
       "      <td>...</td>\n",
       "      <td>260.0</td>\n",
       "      <td>167</td>\n",
       "      <td>2000.0</td>\n",
       "      <td>Boroondara City Council</td>\n",
       "      <td>-37.79660</td>\n",
       "      <td>145.10210</td>\n",
       "      <td>Southern Metropolitan</td>\n",
       "      <td>7809.0</td>\n",
       "      <td>Attached Garage</td>\n",
       "      <td>1315000.0</td>\n",
       "    </tr>\n",
       "    <tr>\n",
       "      <th>29</th>\n",
       "      <td>Balwyn North</td>\n",
       "      <td>153 Doncaster Rd</td>\n",
       "      <td>3</td>\n",
       "      <td>h</td>\n",
       "      <td>PI</td>\n",
       "      <td>Jellis</td>\n",
       "      <td>3/9/2016</td>\n",
       "      <td>9.2</td>\n",
       "      <td>3104.0</td>\n",
       "      <td>3.0</td>\n",
       "      <td>...</td>\n",
       "      <td>778.0</td>\n",
       "      <td>154</td>\n",
       "      <td>1950.0</td>\n",
       "      <td>Boroondara City Council</td>\n",
       "      <td>-37.79390</td>\n",
       "      <td>145.07890</td>\n",
       "      <td>Southern Metropolitan</td>\n",
       "      <td>7809.0</td>\n",
       "      <td>Indoor</td>\n",
       "      <td>1500000.0</td>\n",
       "    </tr>\n",
       "    <tr>\n",
       "      <th>...</th>\n",
       "      <td>...</td>\n",
       "      <td>...</td>\n",
       "      <td>...</td>\n",
       "      <td>...</td>\n",
       "      <td>...</td>\n",
       "      <td>...</td>\n",
       "      <td>...</td>\n",
       "      <td>...</td>\n",
       "      <td>...</td>\n",
       "      <td>...</td>\n",
       "      <td>...</td>\n",
       "      <td>...</td>\n",
       "      <td>...</td>\n",
       "      <td>...</td>\n",
       "      <td>...</td>\n",
       "      <td>...</td>\n",
       "      <td>...</td>\n",
       "      <td>...</td>\n",
       "      <td>...</td>\n",
       "      <td>...</td>\n",
       "      <td>...</td>\n",
       "    </tr>\n",
       "    <tr>\n",
       "      <th>34827</th>\n",
       "      <td>Ormond</td>\n",
       "      <td>5/30 Lillimur Rd</td>\n",
       "      <td>2</td>\n",
       "      <td>u</td>\n",
       "      <td>VB</td>\n",
       "      <td>Ray</td>\n",
       "      <td>30/07/2016</td>\n",
       "      <td>11.8</td>\n",
       "      <td>3204.0</td>\n",
       "      <td>2.0</td>\n",
       "      <td>...</td>\n",
       "      <td>0.0</td>\n",
       "      <td>NaN</td>\n",
       "      <td>2005.0</td>\n",
       "      <td>Glen Eira City Council</td>\n",
       "      <td>-37.90140</td>\n",
       "      <td>145.04180</td>\n",
       "      <td>Southern Metropolitan</td>\n",
       "      <td>3578.0</td>\n",
       "      <td>Parkade</td>\n",
       "      <td>450000.0</td>\n",
       "    </tr>\n",
       "    <tr>\n",
       "      <th>34828</th>\n",
       "      <td>West Footscray</td>\n",
       "      <td>32 Richelieu St</td>\n",
       "      <td>5</td>\n",
       "      <td>h</td>\n",
       "      <td>S</td>\n",
       "      <td>Village</td>\n",
       "      <td>30/07/2016</td>\n",
       "      <td>8.2</td>\n",
       "      <td>3012.0</td>\n",
       "      <td>5.0</td>\n",
       "      <td>...</td>\n",
       "      <td>352.0</td>\n",
       "      <td>NaN</td>\n",
       "      <td>NaN</td>\n",
       "      <td>Maribyrnong City Council</td>\n",
       "      <td>-37.79080</td>\n",
       "      <td>144.87110</td>\n",
       "      <td>Western Metropolitan</td>\n",
       "      <td>5058.0</td>\n",
       "      <td>Carport</td>\n",
       "      <td>1030000.0</td>\n",
       "    </tr>\n",
       "    <tr>\n",
       "      <th>34829</th>\n",
       "      <td>West Footscray</td>\n",
       "      <td>121 Suffolk St</td>\n",
       "      <td>3</td>\n",
       "      <td>h</td>\n",
       "      <td>S</td>\n",
       "      <td>Village</td>\n",
       "      <td>30/07/2016</td>\n",
       "      <td>8.2</td>\n",
       "      <td>3012.0</td>\n",
       "      <td>3.0</td>\n",
       "      <td>...</td>\n",
       "      <td>397.0</td>\n",
       "      <td>127</td>\n",
       "      <td>1960.0</td>\n",
       "      <td>Maribyrnong City Council</td>\n",
       "      <td>-37.79010</td>\n",
       "      <td>144.86820</td>\n",
       "      <td>Western Metropolitan</td>\n",
       "      <td>5058.0</td>\n",
       "      <td>Detached Garage</td>\n",
       "      <td>878000.0</td>\n",
       "    </tr>\n",
       "    <tr>\n",
       "      <th>34830</th>\n",
       "      <td>Albion</td>\n",
       "      <td>3 Barclay St</td>\n",
       "      <td>2</td>\n",
       "      <td>h</td>\n",
       "      <td>S</td>\n",
       "      <td>Barry</td>\n",
       "      <td>30/07/2016</td>\n",
       "      <td>13.9</td>\n",
       "      <td>3020.0</td>\n",
       "      <td>2.0</td>\n",
       "      <td>...</td>\n",
       "      <td>463.0</td>\n",
       "      <td>85</td>\n",
       "      <td>NaN</td>\n",
       "      <td>Brimbank City Council</td>\n",
       "      <td>-37.78130</td>\n",
       "      <td>144.82340</td>\n",
       "      <td>Western Metropolitan</td>\n",
       "      <td>2185.0</td>\n",
       "      <td>Attached Garage</td>\n",
       "      <td>460000.0</td>\n",
       "    </tr>\n",
       "    <tr>\n",
       "      <th>34831</th>\n",
       "      <td>Albion</td>\n",
       "      <td>5/25 Ridley St</td>\n",
       "      <td>2</td>\n",
       "      <td>u</td>\n",
       "      <td>SP</td>\n",
       "      <td>Burnham</td>\n",
       "      <td>30/07/2016</td>\n",
       "      <td>13.9</td>\n",
       "      <td>3020.0</td>\n",
       "      <td>2.0</td>\n",
       "      <td>...</td>\n",
       "      <td>0.0</td>\n",
       "      <td>NaN</td>\n",
       "      <td>NaN</td>\n",
       "      <td>Brimbank City Council</td>\n",
       "      <td>-37.78390</td>\n",
       "      <td>144.82390</td>\n",
       "      <td>Western Metropolitan</td>\n",
       "      <td>2185.0</td>\n",
       "      <td>Indoor</td>\n",
       "      <td>190000.0</td>\n",
       "    </tr>\n",
       "    <tr>\n",
       "      <th>34832</th>\n",
       "      <td>Oakleigh</td>\n",
       "      <td>9/126 Atherton Rd</td>\n",
       "      <td>3</td>\n",
       "      <td>u</td>\n",
       "      <td>S</td>\n",
       "      <td>O'Brien</td>\n",
       "      <td>30/07/2016</td>\n",
       "      <td>14.0</td>\n",
       "      <td>3166.0</td>\n",
       "      <td>3.0</td>\n",
       "      <td>...</td>\n",
       "      <td>112.0</td>\n",
       "      <td>NaN</td>\n",
       "      <td>NaN</td>\n",
       "      <td>Monash City Council</td>\n",
       "      <td>-37.90080</td>\n",
       "      <td>145.09800</td>\n",
       "      <td>Southern Metropolitan</td>\n",
       "      <td>3224.0</td>\n",
       "      <td>Carport</td>\n",
       "      <td>665000.0</td>\n",
       "    </tr>\n",
       "    <tr>\n",
       "      <th>34833</th>\n",
       "      <td>Cremorne</td>\n",
       "      <td>8/98 Dover St</td>\n",
       "      <td>2</td>\n",
       "      <td>h</td>\n",
       "      <td>S</td>\n",
       "      <td>Biggin</td>\n",
       "      <td>30/07/2016</td>\n",
       "      <td>2.5</td>\n",
       "      <td>3121.0</td>\n",
       "      <td>2.0</td>\n",
       "      <td>...</td>\n",
       "      <td>56.0</td>\n",
       "      <td>106</td>\n",
       "      <td>1997.0</td>\n",
       "      <td>Yarra City Council</td>\n",
       "      <td>-37.82840</td>\n",
       "      <td>144.99150</td>\n",
       "      <td>Northern Metropolitan</td>\n",
       "      <td>1123.0</td>\n",
       "      <td>Detached Garage</td>\n",
       "      <td>NaN</td>\n",
       "    </tr>\n",
       "    <tr>\n",
       "      <th>34834</th>\n",
       "      <td>Docklands</td>\n",
       "      <td>702/8 Waterview Wk</td>\n",
       "      <td>2</td>\n",
       "      <td>u</td>\n",
       "      <td>S</td>\n",
       "      <td>Gary</td>\n",
       "      <td>30/07/2016</td>\n",
       "      <td>1.9</td>\n",
       "      <td>3008.0</td>\n",
       "      <td>NaN</td>\n",
       "      <td>...</td>\n",
       "      <td>NaN</td>\n",
       "      <td>NaN</td>\n",
       "      <td>NaN</td>\n",
       "      <td>Melbourne City Council</td>\n",
       "      <td>NaN</td>\n",
       "      <td>NaN</td>\n",
       "      <td>Southern Metropolitan</td>\n",
       "      <td>4707.0</td>\n",
       "      <td>Attached Garage</td>\n",
       "      <td>625000.0</td>\n",
       "    </tr>\n",
       "    <tr>\n",
       "      <th>34835</th>\n",
       "      <td>Avondale Heights</td>\n",
       "      <td>12 Glamis Dr</td>\n",
       "      <td>3</td>\n",
       "      <td>h</td>\n",
       "      <td>SP</td>\n",
       "      <td>Nelson</td>\n",
       "      <td>30/09/2017</td>\n",
       "      <td>9.5</td>\n",
       "      <td>3034.0</td>\n",
       "      <td>3.0</td>\n",
       "      <td>...</td>\n",
       "      <td>555.0</td>\n",
       "      <td>128</td>\n",
       "      <td>1970.0</td>\n",
       "      <td>Moonee Valley City Council</td>\n",
       "      <td>-37.75457</td>\n",
       "      <td>144.85495</td>\n",
       "      <td>Western Metropolitan</td>\n",
       "      <td>4502.0</td>\n",
       "      <td>Indoor</td>\n",
       "      <td>NaN</td>\n",
       "    </tr>\n",
       "    <tr>\n",
       "      <th>34836</th>\n",
       "      <td>Bentleigh</td>\n",
       "      <td>31 Wheatley Rd</td>\n",
       "      <td>5</td>\n",
       "      <td>h</td>\n",
       "      <td>VB</td>\n",
       "      <td>Marshall</td>\n",
       "      <td>30/09/2017</td>\n",
       "      <td>11.4</td>\n",
       "      <td>3204.0</td>\n",
       "      <td>5.0</td>\n",
       "      <td>...</td>\n",
       "      <td>NaN</td>\n",
       "      <td>307</td>\n",
       "      <td>1930.0</td>\n",
       "      <td>Glen Eira City Council</td>\n",
       "      <td>-37.91483</td>\n",
       "      <td>145.03264</td>\n",
       "      <td>Southern Metropolitan</td>\n",
       "      <td>6795.0</td>\n",
       "      <td>Parkade</td>\n",
       "      <td>2400000.0</td>\n",
       "    </tr>\n",
       "    <tr>\n",
       "      <th>34837</th>\n",
       "      <td>Blackburn South</td>\n",
       "      <td>20 Indra Rd</td>\n",
       "      <td>3</td>\n",
       "      <td>h</td>\n",
       "      <td>SN</td>\n",
       "      <td>Woodards</td>\n",
       "      <td>30/09/2017</td>\n",
       "      <td>13.4</td>\n",
       "      <td>3130.0</td>\n",
       "      <td>3.0</td>\n",
       "      <td>...</td>\n",
       "      <td>NaN</td>\n",
       "      <td>NaN</td>\n",
       "      <td>NaN</td>\n",
       "      <td>Whitehorse City Council</td>\n",
       "      <td>-37.83885</td>\n",
       "      <td>145.13975</td>\n",
       "      <td>Eastern Metropolitan</td>\n",
       "      <td>4387.0</td>\n",
       "      <td>Underground</td>\n",
       "      <td>NaN</td>\n",
       "    </tr>\n",
       "    <tr>\n",
       "      <th>34838</th>\n",
       "      <td>Caroline Springs</td>\n",
       "      <td>29 Edgbaston Pde</td>\n",
       "      <td>3</td>\n",
       "      <td>h</td>\n",
       "      <td>SP</td>\n",
       "      <td>Crane</td>\n",
       "      <td>30/09/2017</td>\n",
       "      <td>14.8</td>\n",
       "      <td>3023.0</td>\n",
       "      <td>3.0</td>\n",
       "      <td>...</td>\n",
       "      <td>355.0</td>\n",
       "      <td>154</td>\n",
       "      <td>2003.0</td>\n",
       "      <td>Melton City Council</td>\n",
       "      <td>-37.73978</td>\n",
       "      <td>144.72851</td>\n",
       "      <td>Western Metropolitan</td>\n",
       "      <td>7719.0</td>\n",
       "      <td>Outdoor Stall</td>\n",
       "      <td>560000.0</td>\n",
       "    </tr>\n",
       "    <tr>\n",
       "      <th>34839</th>\n",
       "      <td>Doncaster East</td>\n",
       "      <td>3a Colchester Dr</td>\n",
       "      <td>4</td>\n",
       "      <td>t</td>\n",
       "      <td>PI</td>\n",
       "      <td>Barry</td>\n",
       "      <td>30/09/2017</td>\n",
       "      <td>14.3</td>\n",
       "      <td>3109.0</td>\n",
       "      <td>NaN</td>\n",
       "      <td>...</td>\n",
       "      <td>NaN</td>\n",
       "      <td>NaN</td>\n",
       "      <td>NaN</td>\n",
       "      <td>Manningham City Council</td>\n",
       "      <td>NaN</td>\n",
       "      <td>NaN</td>\n",
       "      <td>Eastern Metropolitan</td>\n",
       "      <td>10999.0</td>\n",
       "      <td>Parking Pad</td>\n",
       "      <td>1450000.0</td>\n",
       "    </tr>\n",
       "    <tr>\n",
       "      <th>34840</th>\n",
       "      <td>Emerald</td>\n",
       "      <td>10 Stewart Rd</td>\n",
       "      <td>8</td>\n",
       "      <td>h</td>\n",
       "      <td>S</td>\n",
       "      <td>iTRAK</td>\n",
       "      <td>30/09/2017</td>\n",
       "      <td>36.9</td>\n",
       "      <td>3782.0</td>\n",
       "      <td>8.0</td>\n",
       "      <td>...</td>\n",
       "      <td>9833.0</td>\n",
       "      <td>NaN</td>\n",
       "      <td>NaN</td>\n",
       "      <td>Cardinia Shire Council</td>\n",
       "      <td>-37.90689</td>\n",
       "      <td>145.44327</td>\n",
       "      <td>Eastern Victoria</td>\n",
       "      <td>2259.0</td>\n",
       "      <td>Carport</td>\n",
       "      <td>910000.0</td>\n",
       "    </tr>\n",
       "    <tr>\n",
       "      <th>34841</th>\n",
       "      <td>Fitzroy</td>\n",
       "      <td>46 Webb St</td>\n",
       "      <td>2</td>\n",
       "      <td>u</td>\n",
       "      <td>PN</td>\n",
       "      <td>Love</td>\n",
       "      <td>30/09/2017</td>\n",
       "      <td>2.1</td>\n",
       "      <td>3065.0</td>\n",
       "      <td>2.0</td>\n",
       "      <td>...</td>\n",
       "      <td>NaN</td>\n",
       "      <td>124</td>\n",
       "      <td>2000.0</td>\n",
       "      <td>Yarra City Council</td>\n",
       "      <td>-37.80392</td>\n",
       "      <td>144.98008</td>\n",
       "      <td>Northern Metropolitan</td>\n",
       "      <td>5825.0</td>\n",
       "      <td>Detached Garage</td>\n",
       "      <td>NaN</td>\n",
       "    </tr>\n",
       "    <tr>\n",
       "      <th>34842</th>\n",
       "      <td>Footscray</td>\n",
       "      <td>8/155 Gordon St</td>\n",
       "      <td>2</td>\n",
       "      <td>u</td>\n",
       "      <td>S</td>\n",
       "      <td>McGrath</td>\n",
       "      <td>30/09/2017</td>\n",
       "      <td>5.1</td>\n",
       "      <td>3011.0</td>\n",
       "      <td>NaN</td>\n",
       "      <td>...</td>\n",
       "      <td>NaN</td>\n",
       "      <td>NaN</td>\n",
       "      <td>NaN</td>\n",
       "      <td>Maribyrnong City Council</td>\n",
       "      <td>NaN</td>\n",
       "      <td>NaN</td>\n",
       "      <td>Western Metropolitan</td>\n",
       "      <td>7570.0</td>\n",
       "      <td>Attached Garage</td>\n",
       "      <td>455500.0</td>\n",
       "    </tr>\n",
       "    <tr>\n",
       "      <th>34843</th>\n",
       "      <td>Forest Hill</td>\n",
       "      <td>5/33 Forest Rd</td>\n",
       "      <td>2</td>\n",
       "      <td>h</td>\n",
       "      <td>SP</td>\n",
       "      <td>Fletchers</td>\n",
       "      <td>30/09/2017</td>\n",
       "      <td>15.4</td>\n",
       "      <td>3131.0</td>\n",
       "      <td>NaN</td>\n",
       "      <td>...</td>\n",
       "      <td>NaN</td>\n",
       "      <td>NaN</td>\n",
       "      <td>NaN</td>\n",
       "      <td>Whitehorse City Council</td>\n",
       "      <td>NaN</td>\n",
       "      <td>NaN</td>\n",
       "      <td>Eastern Metropolitan</td>\n",
       "      <td>4385.0</td>\n",
       "      <td>Indoor</td>\n",
       "      <td>762000.0</td>\n",
       "    </tr>\n",
       "    <tr>\n",
       "      <th>34844</th>\n",
       "      <td>Glen Waverley</td>\n",
       "      <td>2/33 Mount St</td>\n",
       "      <td>3</td>\n",
       "      <td>u</td>\n",
       "      <td>S</td>\n",
       "      <td>Ray</td>\n",
       "      <td>30/09/2017</td>\n",
       "      <td>16.7</td>\n",
       "      <td>3150.0</td>\n",
       "      <td>NaN</td>\n",
       "      <td>...</td>\n",
       "      <td>NaN</td>\n",
       "      <td>NaN</td>\n",
       "      <td>NaN</td>\n",
       "      <td>Monash City Council</td>\n",
       "      <td>NaN</td>\n",
       "      <td>NaN</td>\n",
       "      <td>Eastern Metropolitan</td>\n",
       "      <td>15321.0</td>\n",
       "      <td>Parkade</td>\n",
       "      <td>1100000.0</td>\n",
       "    </tr>\n",
       "    <tr>\n",
       "      <th>34845</th>\n",
       "      <td>Hoppers Crossing</td>\n",
       "      <td>137 Bellbridge Dr</td>\n",
       "      <td>3</td>\n",
       "      <td>h</td>\n",
       "      <td>S</td>\n",
       "      <td>Barry</td>\n",
       "      <td>30/09/2017</td>\n",
       "      <td>18.4</td>\n",
       "      <td>3029.0</td>\n",
       "      <td>3.0</td>\n",
       "      <td>...</td>\n",
       "      <td>NaN</td>\n",
       "      <td>NaN</td>\n",
       "      <td>NaN</td>\n",
       "      <td>Wyndham City Council</td>\n",
       "      <td>-37.86682</td>\n",
       "      <td>144.71048</td>\n",
       "      <td>Western Metropolitan</td>\n",
       "      <td>13830.0</td>\n",
       "      <td>Underground</td>\n",
       "      <td>505000.0</td>\n",
       "    </tr>\n",
       "    <tr>\n",
       "      <th>34846</th>\n",
       "      <td>Keysborough</td>\n",
       "      <td>3 Cobain St</td>\n",
       "      <td>3</td>\n",
       "      <td>h</td>\n",
       "      <td>S</td>\n",
       "      <td>Area</td>\n",
       "      <td>30/09/2017</td>\n",
       "      <td>25.2</td>\n",
       "      <td>3173.0</td>\n",
       "      <td>3.0</td>\n",
       "      <td>...</td>\n",
       "      <td>539.0</td>\n",
       "      <td>126</td>\n",
       "      <td>1969.0</td>\n",
       "      <td>Greater Dandenong City Council</td>\n",
       "      <td>-37.98916</td>\n",
       "      <td>145.17233</td>\n",
       "      <td>South-Eastern Metropolitan</td>\n",
       "      <td>8459.0</td>\n",
       "      <td>Outdoor Stall</td>\n",
       "      <td>771000.0</td>\n",
       "    </tr>\n",
       "    <tr>\n",
       "      <th>34847</th>\n",
       "      <td>Kingsbury</td>\n",
       "      <td>1/18 Highland St</td>\n",
       "      <td>2</td>\n",
       "      <td>t</td>\n",
       "      <td>SP</td>\n",
       "      <td>RW</td>\n",
       "      <td>30/09/2017</td>\n",
       "      <td>12.1</td>\n",
       "      <td>3083.0</td>\n",
       "      <td>NaN</td>\n",
       "      <td>...</td>\n",
       "      <td>NaN</td>\n",
       "      <td>NaN</td>\n",
       "      <td>NaN</td>\n",
       "      <td>Darebin City Council</td>\n",
       "      <td>NaN</td>\n",
       "      <td>NaN</td>\n",
       "      <td>Northern Metropolitan</td>\n",
       "      <td>1414.0</td>\n",
       "      <td>Parking Pad</td>\n",
       "      <td>512000.0</td>\n",
       "    </tr>\n",
       "    <tr>\n",
       "      <th>34848</th>\n",
       "      <td>Maidstone</td>\n",
       "      <td>15 Ballarat Rd</td>\n",
       "      <td>2</td>\n",
       "      <td>h</td>\n",
       "      <td>SP</td>\n",
       "      <td>Biggin</td>\n",
       "      <td>30/09/2017</td>\n",
       "      <td>6.4</td>\n",
       "      <td>3012.0</td>\n",
       "      <td>2.0</td>\n",
       "      <td>...</td>\n",
       "      <td>300.0</td>\n",
       "      <td>108</td>\n",
       "      <td>1950.0</td>\n",
       "      <td>Maribyrnong City Council</td>\n",
       "      <td>-37.78842</td>\n",
       "      <td>144.88218</td>\n",
       "      <td>Western Metropolitan</td>\n",
       "      <td>3873.0</td>\n",
       "      <td>Carport</td>\n",
       "      <td>611500.0</td>\n",
       "    </tr>\n",
       "    <tr>\n",
       "      <th>34849</th>\n",
       "      <td>Mitcham</td>\n",
       "      <td>2/427 Mitcham Rd</td>\n",
       "      <td>4</td>\n",
       "      <td>h</td>\n",
       "      <td>S</td>\n",
       "      <td>Noel</td>\n",
       "      <td>30/09/2017</td>\n",
       "      <td>17.2</td>\n",
       "      <td>3132.0</td>\n",
       "      <td>NaN</td>\n",
       "      <td>...</td>\n",
       "      <td>NaN</td>\n",
       "      <td>NaN</td>\n",
       "      <td>NaN</td>\n",
       "      <td>Whitehorse City Council</td>\n",
       "      <td>NaN</td>\n",
       "      <td>NaN</td>\n",
       "      <td>Eastern Metropolitan</td>\n",
       "      <td>6871.0</td>\n",
       "      <td>Detached Garage</td>\n",
       "      <td>800000.0</td>\n",
       "    </tr>\n",
       "    <tr>\n",
       "      <th>34850</th>\n",
       "      <td>Narre Warren</td>\n",
       "      <td>32 Heatherlea Cr</td>\n",
       "      <td>4</td>\n",
       "      <td>h</td>\n",
       "      <td>SP</td>\n",
       "      <td>Nicholls</td>\n",
       "      <td>30/09/2017</td>\n",
       "      <td>34.1</td>\n",
       "      <td>3805.0</td>\n",
       "      <td>4.0</td>\n",
       "      <td>...</td>\n",
       "      <td>NaN</td>\n",
       "      <td>NaN</td>\n",
       "      <td>1980.0</td>\n",
       "      <td>Casey City Council</td>\n",
       "      <td>-38.01302</td>\n",
       "      <td>145.30476</td>\n",
       "      <td>South-Eastern Metropolitan</td>\n",
       "      <td>9376.0</td>\n",
       "      <td>Attached Garage</td>\n",
       "      <td>675000.0</td>\n",
       "    </tr>\n",
       "    <tr>\n",
       "      <th>34851</th>\n",
       "      <td>Noble Park</td>\n",
       "      <td>5 Blaby St</td>\n",
       "      <td>3</td>\n",
       "      <td>h</td>\n",
       "      <td>PI</td>\n",
       "      <td>C21</td>\n",
       "      <td>30/09/2017</td>\n",
       "      <td>22.7</td>\n",
       "      <td>3174.0</td>\n",
       "      <td>3.0</td>\n",
       "      <td>...</td>\n",
       "      <td>569.0</td>\n",
       "      <td>130</td>\n",
       "      <td>1959.0</td>\n",
       "      <td>Greater Dandenong City Council</td>\n",
       "      <td>-37.96900</td>\n",
       "      <td>145.18226</td>\n",
       "      <td>South-Eastern Metropolitan</td>\n",
       "      <td>11806.0</td>\n",
       "      <td>Indoor</td>\n",
       "      <td>627500.0</td>\n",
       "    </tr>\n",
       "    <tr>\n",
       "      <th>34852</th>\n",
       "      <td>Reservoir</td>\n",
       "      <td>18 Elinda Pl</td>\n",
       "      <td>3</td>\n",
       "      <td>u</td>\n",
       "      <td>SP</td>\n",
       "      <td>RW</td>\n",
       "      <td>30/09/2017</td>\n",
       "      <td>12.0</td>\n",
       "      <td>3073.0</td>\n",
       "      <td>3.0</td>\n",
       "      <td>...</td>\n",
       "      <td>NaN</td>\n",
       "      <td>105</td>\n",
       "      <td>1990.0</td>\n",
       "      <td>Darebin City Council</td>\n",
       "      <td>-37.69769</td>\n",
       "      <td>145.02332</td>\n",
       "      <td>Northern Metropolitan</td>\n",
       "      <td>21650.0</td>\n",
       "      <td>Parkade</td>\n",
       "      <td>475000.0</td>\n",
       "    </tr>\n",
       "    <tr>\n",
       "      <th>34853</th>\n",
       "      <td>Roxburgh Park</td>\n",
       "      <td>14 Stainsby Cr</td>\n",
       "      <td>4</td>\n",
       "      <td>h</td>\n",
       "      <td>S</td>\n",
       "      <td>Raine</td>\n",
       "      <td>30/09/2017</td>\n",
       "      <td>20.6</td>\n",
       "      <td>3064.0</td>\n",
       "      <td>4.0</td>\n",
       "      <td>...</td>\n",
       "      <td>NaN</td>\n",
       "      <td>225</td>\n",
       "      <td>1995.0</td>\n",
       "      <td>Hume City Council</td>\n",
       "      <td>-37.63665</td>\n",
       "      <td>144.92976</td>\n",
       "      <td>Northern Metropolitan</td>\n",
       "      <td>5833.0</td>\n",
       "      <td>Underground</td>\n",
       "      <td>591000.0</td>\n",
       "    </tr>\n",
       "    <tr>\n",
       "      <th>34854</th>\n",
       "      <td>Springvale South</td>\n",
       "      <td>8 Bellbird Ct</td>\n",
       "      <td>4</td>\n",
       "      <td>h</td>\n",
       "      <td>PI</td>\n",
       "      <td>Barry</td>\n",
       "      <td>30/09/2017</td>\n",
       "      <td>22.2</td>\n",
       "      <td>3172.0</td>\n",
       "      <td>4.0</td>\n",
       "      <td>...</td>\n",
       "      <td>534.0</td>\n",
       "      <td>152</td>\n",
       "      <td>1970.0</td>\n",
       "      <td>Greater Dandenong City Council</td>\n",
       "      <td>-37.97037</td>\n",
       "      <td>145.15449</td>\n",
       "      <td>South-Eastern Metropolitan</td>\n",
       "      <td>4054.0</td>\n",
       "      <td>Carport</td>\n",
       "      <td>NaN</td>\n",
       "    </tr>\n",
       "    <tr>\n",
       "      <th>34855</th>\n",
       "      <td>Springvale South</td>\n",
       "      <td>30 Waddington Cr</td>\n",
       "      <td>3</td>\n",
       "      <td>h</td>\n",
       "      <td>S</td>\n",
       "      <td>Harcourts</td>\n",
       "      <td>30/09/2017</td>\n",
       "      <td>22.2</td>\n",
       "      <td>3172.0</td>\n",
       "      <td>3.0</td>\n",
       "      <td>...</td>\n",
       "      <td>544.0</td>\n",
       "      <td>NaN</td>\n",
       "      <td>NaN</td>\n",
       "      <td>Greater Dandenong City Council</td>\n",
       "      <td>-37.97751</td>\n",
       "      <td>145.14813</td>\n",
       "      <td>South-Eastern Metropolitan</td>\n",
       "      <td>4054.0</td>\n",
       "      <td>Detached Garage</td>\n",
       "      <td>780500.0</td>\n",
       "    </tr>\n",
       "    <tr>\n",
       "      <th>34856</th>\n",
       "      <td>Westmeadows</td>\n",
       "      <td>42 Pascoe St</td>\n",
       "      <td>4</td>\n",
       "      <td>h</td>\n",
       "      <td>S</td>\n",
       "      <td>Barry</td>\n",
       "      <td>30/09/2017</td>\n",
       "      <td>16.5</td>\n",
       "      <td>3049.0</td>\n",
       "      <td>4.0</td>\n",
       "      <td>...</td>\n",
       "      <td>813.0</td>\n",
       "      <td>140</td>\n",
       "      <td>1960.0</td>\n",
       "      <td>Hume City Council</td>\n",
       "      <td>-37.67631</td>\n",
       "      <td>144.89409</td>\n",
       "      <td>Northern Metropolitan</td>\n",
       "      <td>2474.0</td>\n",
       "      <td>Attached Garage</td>\n",
       "      <td>791000.0</td>\n",
       "    </tr>\n",
       "  </tbody>\n",
       "</table>\n",
       "<p>34857 rows × 22 columns</p>\n",
       "</div>"
      ],
      "text/plain": [
       "                 Suburb              Address  Rooms Type Method  \\\n",
       "0            Abbotsford        68 Studley St      2    h     SS   \n",
       "1          Airport West        154 Halsey Rd      3    t     PI   \n",
       "2           Albert Park       105 Kerferd Rd      2    h      S   \n",
       "3           Albert Park     85 Richardson St      2    h      S   \n",
       "4            Alphington         30 Austin St      3    h     SN   \n",
       "5            Alphington           6 Smith St      4    h      S   \n",
       "6            Alphington      5/6 Yarralea St      3    h      S   \n",
       "7                Altona         158 Queen St      3    h     VB   \n",
       "8          Altona North          1 Beuron Rd      3    h     SP   \n",
       "9          Altona North          45 Hearn St      5    h      S   \n",
       "10         Altona North           4 Knapp St      3    h      S   \n",
       "11         Altona North         103 Sixth Av      4    h      S   \n",
       "12             Armadale           24 Hume St      3    h      S   \n",
       "13             Armadale       8/19 Mercer Rd      2    u      S   \n",
       "14           Ascot Vale            24 Ayr St      3    h      S   \n",
       "15           Ascot Vale     2/43 Roxburgh St      2    u      S   \n",
       "16            Ashburton           61 Dent St      4    h      S   \n",
       "17            Ashburton          1 Wilgra Av      2    h      S   \n",
       "18              Ashwood       1/14 Eildon Rd      3    h     SP   \n",
       "19              Ashwood           18 Teck St      2    h      S   \n",
       "20     Avondale Heights          13 MacEy Av      4    h      S   \n",
       "21     Avondale Heights           8 Norma Ct      3    h      S   \n",
       "22     Avondale Heights        9 Rogerson St      3    h     SP   \n",
       "23            Balaclava         18 Linton St      4    h      S   \n",
       "24               Balwyn      1/4 Glenluss St      3    t      S   \n",
       "25               Balwyn        166 Gordon St      2    h      S   \n",
       "26               Balwyn         36 Narrak Rd      4    h     VB   \n",
       "27               Balwyn  2/16 Westminster St      2    t      S   \n",
       "28         Balwyn North      3/41 Clifton St      3    t      S   \n",
       "29         Balwyn North     153 Doncaster Rd      3    h     PI   \n",
       "...                 ...                  ...    ...  ...    ...   \n",
       "34827            Ormond     5/30 Lillimur Rd      2    u     VB   \n",
       "34828    West Footscray      32 Richelieu St      5    h      S   \n",
       "34829    West Footscray       121 Suffolk St      3    h      S   \n",
       "34830            Albion         3 Barclay St      2    h      S   \n",
       "34831            Albion       5/25 Ridley St      2    u     SP   \n",
       "34832          Oakleigh    9/126 Atherton Rd      3    u      S   \n",
       "34833          Cremorne        8/98 Dover St      2    h      S   \n",
       "34834         Docklands   702/8 Waterview Wk      2    u      S   \n",
       "34835  Avondale Heights         12 Glamis Dr      3    h     SP   \n",
       "34836         Bentleigh       31 Wheatley Rd      5    h     VB   \n",
       "34837   Blackburn South          20 Indra Rd      3    h     SN   \n",
       "34838  Caroline Springs     29 Edgbaston Pde      3    h     SP   \n",
       "34839    Doncaster East     3a Colchester Dr      4    t     PI   \n",
       "34840           Emerald        10 Stewart Rd      8    h      S   \n",
       "34841           Fitzroy           46 Webb St      2    u     PN   \n",
       "34842         Footscray      8/155 Gordon St      2    u      S   \n",
       "34843       Forest Hill       5/33 Forest Rd      2    h     SP   \n",
       "34844     Glen Waverley        2/33 Mount St      3    u      S   \n",
       "34845  Hoppers Crossing    137 Bellbridge Dr      3    h      S   \n",
       "34846       Keysborough          3 Cobain St      3    h      S   \n",
       "34847         Kingsbury     1/18 Highland St      2    t     SP   \n",
       "34848         Maidstone       15 Ballarat Rd      2    h     SP   \n",
       "34849           Mitcham     2/427 Mitcham Rd      4    h      S   \n",
       "34850      Narre Warren     32 Heatherlea Cr      4    h     SP   \n",
       "34851        Noble Park           5 Blaby St      3    h     PI   \n",
       "34852         Reservoir         18 Elinda Pl      3    u     SP   \n",
       "34853     Roxburgh Park       14 Stainsby Cr      4    h      S   \n",
       "34854  Springvale South        8 Bellbird Ct      4    h     PI   \n",
       "34855  Springvale South     30 Waddington Cr      3    h      S   \n",
       "34856       Westmeadows         42 Pascoe St      4    h      S   \n",
       "\n",
       "             SellerG        Date  Distance  Postcode  Bedroom    ...      \\\n",
       "0             Jellis    3/9/2016       2.5    3067.0      2.0    ...       \n",
       "1             Nelson    3/9/2016      13.5    3042.0      3.0    ...       \n",
       "2      hockingstuart    3/9/2016       3.3    3206.0      2.0    ...       \n",
       "3            Thomson    3/9/2016       3.3    3206.0      2.0    ...       \n",
       "4            McGrath    3/9/2016       6.4    3078.0      3.0    ...       \n",
       "5              Brace    3/9/2016       6.4    3078.0      3.0    ...       \n",
       "6             Jellis    3/9/2016       6.4    3078.0      3.0    ...       \n",
       "7               Greg    3/9/2016      13.8    3018.0      3.0    ...       \n",
       "8           Williams    3/9/2016      11.1    3025.0      3.0    ...       \n",
       "9                 FN    3/9/2016      11.1    3025.0      5.0    ...       \n",
       "10               Jas    3/9/2016      11.1    3025.0      3.0    ...       \n",
       "11     hockingstuart    3/9/2016      11.1    3025.0      NaN    ...       \n",
       "12                RT    3/9/2016       6.3    3143.0      2.0    ...       \n",
       "13            Jellis    3/9/2016       6.3    3143.0      2.0    ...       \n",
       "14            Jellis    3/9/2016       5.9    3032.0      3.0    ...       \n",
       "15            Nelson    3/9/2016       5.9    3032.0      3.0    ...       \n",
       "16          Marshall    3/9/2016      11.0    3147.0      4.0    ...       \n",
       "17          Marshall    3/9/2016      11.0    3147.0      NaN    ...       \n",
       "18            Jellis    3/9/2016      12.2    3147.0      3.0    ...       \n",
       "19               Tim    3/9/2016      12.2    3147.0      2.0    ...       \n",
       "20            Jellis    3/9/2016      10.5    3034.0      NaN    ...       \n",
       "21            Moonee    3/9/2016      10.5    3034.0      3.0    ...       \n",
       "22            Moonee    3/9/2016      10.5    3034.0      3.0    ...       \n",
       "23              Gary    3/9/2016       6.6    3183.0      3.0    ...       \n",
       "24            Jellis    3/9/2016       9.7    3103.0      3.0    ...       \n",
       "25          Marshall    3/9/2016       9.7    3103.0      2.0    ...       \n",
       "26          Marshall    3/9/2016       9.7    3103.0      4.0    ...       \n",
       "27              Noel    3/9/2016       9.7    3103.0      2.0    ...       \n",
       "28     hockingstuart    3/9/2016       9.2    3104.0      3.0    ...       \n",
       "29            Jellis    3/9/2016       9.2    3104.0      3.0    ...       \n",
       "...              ...         ...       ...       ...      ...    ...       \n",
       "34827            Ray  30/07/2016      11.8    3204.0      2.0    ...       \n",
       "34828        Village  30/07/2016       8.2    3012.0      5.0    ...       \n",
       "34829        Village  30/07/2016       8.2    3012.0      3.0    ...       \n",
       "34830          Barry  30/07/2016      13.9    3020.0      2.0    ...       \n",
       "34831        Burnham  30/07/2016      13.9    3020.0      2.0    ...       \n",
       "34832        O'Brien  30/07/2016      14.0    3166.0      3.0    ...       \n",
       "34833         Biggin  30/07/2016       2.5    3121.0      2.0    ...       \n",
       "34834           Gary  30/07/2016       1.9    3008.0      NaN    ...       \n",
       "34835         Nelson  30/09/2017       9.5    3034.0      3.0    ...       \n",
       "34836       Marshall  30/09/2017      11.4    3204.0      5.0    ...       \n",
       "34837       Woodards  30/09/2017      13.4    3130.0      3.0    ...       \n",
       "34838          Crane  30/09/2017      14.8    3023.0      3.0    ...       \n",
       "34839          Barry  30/09/2017      14.3    3109.0      NaN    ...       \n",
       "34840          iTRAK  30/09/2017      36.9    3782.0      8.0    ...       \n",
       "34841           Love  30/09/2017       2.1    3065.0      2.0    ...       \n",
       "34842        McGrath  30/09/2017       5.1    3011.0      NaN    ...       \n",
       "34843      Fletchers  30/09/2017      15.4    3131.0      NaN    ...       \n",
       "34844            Ray  30/09/2017      16.7    3150.0      NaN    ...       \n",
       "34845          Barry  30/09/2017      18.4    3029.0      3.0    ...       \n",
       "34846           Area  30/09/2017      25.2    3173.0      3.0    ...       \n",
       "34847             RW  30/09/2017      12.1    3083.0      NaN    ...       \n",
       "34848         Biggin  30/09/2017       6.4    3012.0      2.0    ...       \n",
       "34849           Noel  30/09/2017      17.2    3132.0      NaN    ...       \n",
       "34850       Nicholls  30/09/2017      34.1    3805.0      4.0    ...       \n",
       "34851            C21  30/09/2017      22.7    3174.0      3.0    ...       \n",
       "34852             RW  30/09/2017      12.0    3073.0      3.0    ...       \n",
       "34853          Raine  30/09/2017      20.6    3064.0      4.0    ...       \n",
       "34854          Barry  30/09/2017      22.2    3172.0      4.0    ...       \n",
       "34855      Harcourts  30/09/2017      22.2    3172.0      3.0    ...       \n",
       "34856          Barry  30/09/2017      16.5    3049.0      4.0    ...       \n",
       "\n",
       "       Landsize  BuildingArea  YearBuilt                     CouncilArea  \\\n",
       "0         126.0           inf        NaN              Yarra City Council   \n",
       "1         303.0           225     2016.0      Moonee Valley City Council   \n",
       "2         120.0            82     1900.0       Port Phillip City Council   \n",
       "3         159.0           inf        NaN       Port Phillip City Council   \n",
       "4         174.0           122     2003.0            Darebin City Council   \n",
       "5         853.0           263     1930.0            Darebin City Council   \n",
       "6         208.0           inf     2013.0            Darebin City Council   \n",
       "7         352.0           242     2015.0        Hobsons Bay City Council   \n",
       "8         620.0           108     1950.0        Hobsons Bay City Council   \n",
       "9         592.0           251     1965.0        Hobsons Bay City Council   \n",
       "10        533.0           117     1970.0        Hobsons Bay City Council   \n",
       "11          NaN       missing        NaN        Hobsons Bay City Council   \n",
       "12        305.0       missing        NaN        Stonnington City Council   \n",
       "13          0.0            76     1964.0        Stonnington City Council   \n",
       "14        305.0           135     1910.0      Moonee Valley City Council   \n",
       "15          0.0       missing        NaN      Moonee Valley City Council   \n",
       "16        753.0           399     2015.0         Boroondara City Council   \n",
       "17          NaN           inf        NaN         Boroondara City Council   \n",
       "18        343.0           inf     1960.0             Monash City Council   \n",
       "19        583.0           inf     1950.0             Monash City Council   \n",
       "20          NaN       missing        NaN      Moonee Valley City Council   \n",
       "21        593.0           118     1970.0      Moonee Valley City Council   \n",
       "22          0.0           103     1980.0      Moonee Valley City Council   \n",
       "23        244.0           180     1900.0       Port Phillip City Council   \n",
       "24        348.0           NaN        NaN         Boroondara City Council   \n",
       "25        659.0           123     1920.0         Boroondara City Council   \n",
       "26        715.0           218     1985.0         Boroondara City Council   \n",
       "27        208.0           129     2000.0         Boroondara City Council   \n",
       "28        260.0           167     2000.0         Boroondara City Council   \n",
       "29        778.0           154     1950.0         Boroondara City Council   \n",
       "...         ...           ...        ...                             ...   \n",
       "34827       0.0           NaN     2005.0          Glen Eira City Council   \n",
       "34828     352.0           NaN        NaN        Maribyrnong City Council   \n",
       "34829     397.0           127     1960.0        Maribyrnong City Council   \n",
       "34830     463.0            85        NaN           Brimbank City Council   \n",
       "34831       0.0           NaN        NaN           Brimbank City Council   \n",
       "34832     112.0           NaN        NaN             Monash City Council   \n",
       "34833      56.0           106     1997.0              Yarra City Council   \n",
       "34834       NaN           NaN        NaN          Melbourne City Council   \n",
       "34835     555.0           128     1970.0      Moonee Valley City Council   \n",
       "34836       NaN           307     1930.0          Glen Eira City Council   \n",
       "34837       NaN           NaN        NaN         Whitehorse City Council   \n",
       "34838     355.0           154     2003.0             Melton City Council   \n",
       "34839       NaN           NaN        NaN         Manningham City Council   \n",
       "34840    9833.0           NaN        NaN          Cardinia Shire Council   \n",
       "34841       NaN           124     2000.0              Yarra City Council   \n",
       "34842       NaN           NaN        NaN        Maribyrnong City Council   \n",
       "34843       NaN           NaN        NaN         Whitehorse City Council   \n",
       "34844       NaN           NaN        NaN             Monash City Council   \n",
       "34845       NaN           NaN        NaN            Wyndham City Council   \n",
       "34846     539.0           126     1969.0  Greater Dandenong City Council   \n",
       "34847       NaN           NaN        NaN            Darebin City Council   \n",
       "34848     300.0           108     1950.0        Maribyrnong City Council   \n",
       "34849       NaN           NaN        NaN         Whitehorse City Council   \n",
       "34850       NaN           NaN     1980.0              Casey City Council   \n",
       "34851     569.0           130     1959.0  Greater Dandenong City Council   \n",
       "34852       NaN           105     1990.0            Darebin City Council   \n",
       "34853       NaN           225     1995.0               Hume City Council   \n",
       "34854     534.0           152     1970.0  Greater Dandenong City Council   \n",
       "34855     544.0           NaN        NaN  Greater Dandenong City Council   \n",
       "34856     813.0           140     1960.0               Hume City Council   \n",
       "\n",
       "       Latitude Longtitude                  Regionname  Propertycount  \\\n",
       "0     -37.80140  144.99580       Northern Metropolitan         4019.0   \n",
       "1     -37.71800  144.87800        Western Metropolitan         3464.0   \n",
       "2     -37.84590  144.95550       Southern Metropolitan         3280.0   \n",
       "3     -37.84500  144.95380       Southern Metropolitan         3280.0   \n",
       "4     -37.78180  145.01980       Northern Metropolitan         2211.0   \n",
       "5     -37.77070  145.03180       Northern Metropolitan         2211.0   \n",
       "6     -37.78540  145.03250       Northern Metropolitan         2211.0   \n",
       "7     -37.87000  144.82500        Western Metropolitan         5301.0   \n",
       "8     -37.82900  144.84800        Western Metropolitan         5132.0   \n",
       "9     -37.83880  144.85670        Western Metropolitan         5132.0   \n",
       "10    -37.82910  144.83500        Western Metropolitan         5132.0   \n",
       "11          NaN        NaN        Western Metropolitan         5132.0   \n",
       "12    -37.85730  145.02260       Southern Metropolitan         4836.0   \n",
       "13    -37.85430  145.02620       Southern Metropolitan         4836.0   \n",
       "14    -37.77990  144.92960        Western Metropolitan         6567.0   \n",
       "15    -37.77560  144.91650        Western Metropolitan         6567.0   \n",
       "16    -37.86690  145.07670       Southern Metropolitan         3052.0   \n",
       "17          NaN        NaN       Southern Metropolitan         3052.0   \n",
       "18    -37.86230  145.10980       Southern Metropolitan         2894.0   \n",
       "19    -37.86930  145.10820       Southern Metropolitan         2894.0   \n",
       "20          NaN        NaN        Western Metropolitan         4502.0   \n",
       "21    -37.76770  144.86740        Western Metropolitan         4502.0   \n",
       "22    -37.76340  144.86110        Western Metropolitan         4502.0   \n",
       "23    -37.86680  144.99280       Southern Metropolitan         2952.0   \n",
       "24    -37.80530  145.09340       Southern Metropolitan         5682.0   \n",
       "25    -37.80940  145.08070       Southern Metropolitan         5682.0   \n",
       "26    -37.81100  145.09580       Southern Metropolitan         5682.0   \n",
       "27    -37.81280  145.09750       Southern Metropolitan         5682.0   \n",
       "28    -37.79660  145.10210       Southern Metropolitan         7809.0   \n",
       "29    -37.79390  145.07890       Southern Metropolitan         7809.0   \n",
       "...         ...        ...                         ...            ...   \n",
       "34827 -37.90140  145.04180       Southern Metropolitan         3578.0   \n",
       "34828 -37.79080  144.87110        Western Metropolitan         5058.0   \n",
       "34829 -37.79010  144.86820        Western Metropolitan         5058.0   \n",
       "34830 -37.78130  144.82340        Western Metropolitan         2185.0   \n",
       "34831 -37.78390  144.82390        Western Metropolitan         2185.0   \n",
       "34832 -37.90080  145.09800       Southern Metropolitan         3224.0   \n",
       "34833 -37.82840  144.99150       Northern Metropolitan         1123.0   \n",
       "34834       NaN        NaN       Southern Metropolitan         4707.0   \n",
       "34835 -37.75457  144.85495        Western Metropolitan         4502.0   \n",
       "34836 -37.91483  145.03264       Southern Metropolitan         6795.0   \n",
       "34837 -37.83885  145.13975        Eastern Metropolitan         4387.0   \n",
       "34838 -37.73978  144.72851        Western Metropolitan         7719.0   \n",
       "34839       NaN        NaN        Eastern Metropolitan        10999.0   \n",
       "34840 -37.90689  145.44327            Eastern Victoria         2259.0   \n",
       "34841 -37.80392  144.98008       Northern Metropolitan         5825.0   \n",
       "34842       NaN        NaN        Western Metropolitan         7570.0   \n",
       "34843       NaN        NaN        Eastern Metropolitan         4385.0   \n",
       "34844       NaN        NaN        Eastern Metropolitan        15321.0   \n",
       "34845 -37.86682  144.71048        Western Metropolitan        13830.0   \n",
       "34846 -37.98916  145.17233  South-Eastern Metropolitan         8459.0   \n",
       "34847       NaN        NaN       Northern Metropolitan         1414.0   \n",
       "34848 -37.78842  144.88218        Western Metropolitan         3873.0   \n",
       "34849       NaN        NaN        Eastern Metropolitan         6871.0   \n",
       "34850 -38.01302  145.30476  South-Eastern Metropolitan         9376.0   \n",
       "34851 -37.96900  145.18226  South-Eastern Metropolitan        11806.0   \n",
       "34852 -37.69769  145.02332       Northern Metropolitan        21650.0   \n",
       "34853 -37.63665  144.92976       Northern Metropolitan         5833.0   \n",
       "34854 -37.97037  145.15449  South-Eastern Metropolitan         4054.0   \n",
       "34855 -37.97751  145.14813  South-Eastern Metropolitan         4054.0   \n",
       "34856 -37.67631  144.89409       Northern Metropolitan         2474.0   \n",
       "\n",
       "           ParkingArea      Price  \n",
       "0              Carport        NaN  \n",
       "1      Detached Garage   840000.0  \n",
       "2      Attached Garage  1275000.0  \n",
       "3               Indoor  1455000.0  \n",
       "4              Parkade        NaN  \n",
       "5          Underground  2000000.0  \n",
       "6        Outdoor Stall  1110000.0  \n",
       "7          Parking Pad   520000.0  \n",
       "8              Carport        NaN  \n",
       "9      Detached Garage  1085000.0  \n",
       "10     Attached Garage   781000.0  \n",
       "11              Indoor   857500.0  \n",
       "12             Parkade        NaN  \n",
       "13         Underground   599000.0  \n",
       "14             Carport        NaN  \n",
       "15     Detached Garage   455000.0  \n",
       "16     Attached Garage  2650000.0  \n",
       "17              Indoor  1820000.0  \n",
       "18             Parkade        NaN  \n",
       "19             Carport   995000.0  \n",
       "20     Detached Garage  1310000.0  \n",
       "21     Attached Garage   850000.0  \n",
       "22              Indoor   750000.0  \n",
       "23             Parkade  1819000.0  \n",
       "24         Underground        NaN  \n",
       "25       Outdoor Stall  2100000.0  \n",
       "26             Carport  1800000.0  \n",
       "27     Detached Garage  1255000.0  \n",
       "28     Attached Garage  1315000.0  \n",
       "29              Indoor  1500000.0  \n",
       "...                ...        ...  \n",
       "34827          Parkade   450000.0  \n",
       "34828          Carport  1030000.0  \n",
       "34829  Detached Garage   878000.0  \n",
       "34830  Attached Garage   460000.0  \n",
       "34831           Indoor   190000.0  \n",
       "34832          Carport   665000.0  \n",
       "34833  Detached Garage        NaN  \n",
       "34834  Attached Garage   625000.0  \n",
       "34835           Indoor        NaN  \n",
       "34836          Parkade  2400000.0  \n",
       "34837      Underground        NaN  \n",
       "34838    Outdoor Stall   560000.0  \n",
       "34839      Parking Pad  1450000.0  \n",
       "34840          Carport   910000.0  \n",
       "34841  Detached Garage        NaN  \n",
       "34842  Attached Garage   455500.0  \n",
       "34843           Indoor   762000.0  \n",
       "34844          Parkade  1100000.0  \n",
       "34845      Underground   505000.0  \n",
       "34846    Outdoor Stall   771000.0  \n",
       "34847      Parking Pad   512000.0  \n",
       "34848          Carport   611500.0  \n",
       "34849  Detached Garage   800000.0  \n",
       "34850  Attached Garage   675000.0  \n",
       "34851           Indoor   627500.0  \n",
       "34852          Parkade   475000.0  \n",
       "34853      Underground   591000.0  \n",
       "34854          Carport        NaN  \n",
       "34855  Detached Garage   780500.0  \n",
       "34856  Attached Garage   791000.0  \n",
       "\n",
       "[34857 rows x 22 columns]"
      ]
     },
     "execution_count": 10,
     "metadata": {},
     "output_type": "execute_result"
    }
   ],
   "source": [
    "mh"
   ]
  },
  {
   "cell_type": "code",
   "execution_count": 11,
   "metadata": {},
   "outputs": [],
   "source": [
    "num_col=list(mh.select_dtypes(exclude=['object']))"
   ]
  },
  {
   "cell_type": "code",
   "execution_count": 12,
   "metadata": {},
   "outputs": [
    {
     "data": {
      "text/plain": [
       "['Rooms',\n",
       " 'Distance',\n",
       " 'Postcode',\n",
       " 'Bedroom',\n",
       " 'Bathroom',\n",
       " 'Car',\n",
       " 'Landsize',\n",
       " 'YearBuilt',\n",
       " 'Latitude',\n",
       " 'Longtitude',\n",
       " 'Propertycount',\n",
       " 'Price']"
      ]
     },
     "execution_count": 12,
     "metadata": {},
     "output_type": "execute_result"
    }
   ],
   "source": [
    "num_col"
   ]
  },
  {
   "cell_type": "code",
   "execution_count": 13,
   "metadata": {},
   "outputs": [
    {
     "data": {
      "text/plain": [
       "Suburb               0\n",
       "Address              0\n",
       "Rooms                0\n",
       "Type                 0\n",
       "Method               0\n",
       "SellerG              0\n",
       "Date                 0\n",
       "Distance             1\n",
       "Postcode             1\n",
       "Bedroom           8217\n",
       "Bathroom          8226\n",
       "Car               8728\n",
       "Landsize         11810\n",
       "BuildingArea     21097\n",
       "YearBuilt        19306\n",
       "CouncilArea          3\n",
       "Latitude          7976\n",
       "Longtitude        7976\n",
       "Regionname           0\n",
       "Propertycount        3\n",
       "ParkingArea          0\n",
       "Price             7610\n",
       "dtype: int64"
      ]
     },
     "execution_count": 13,
     "metadata": {},
     "output_type": "execute_result"
    }
   ],
   "source": [
    "mh.isnull().sum()"
   ]
  },
  {
   "cell_type": "markdown",
   "metadata": {},
   "source": [
    "The above function used give us nummber of missing enteries in the data frame in each columns"
   ]
  },
  {
   "cell_type": "markdown",
   "metadata": {},
   "source": [
    "# Data cleaning \n",
    "<span style=\"font-family: Arial; font-size:1.4em;color:green;\"> Distance  </p>"
   ]
  },
  {
   "cell_type": "code",
   "execution_count": 14,
   "metadata": {},
   "outputs": [
    {
     "data": {
      "text/plain": [
       "count    34856.000000\n",
       "mean        11.184929\n",
       "std          6.788892\n",
       "min          0.000000\n",
       "25%          6.400000\n",
       "50%         10.300000\n",
       "75%         14.000000\n",
       "max         48.100000\n",
       "Name: Distance, dtype: float64"
      ]
     },
     "execution_count": 14,
     "metadata": {},
     "output_type": "execute_result"
    }
   ],
   "source": [
    "mh['Distance'].describe()"
   ]
  },
  {
   "cell_type": "code",
   "execution_count": 15,
   "metadata": {},
   "outputs": [
    {
     "data": {
      "image/png": "[encoded data removed]",
      "text/plain": [
       "<Figure size 432x288 with 1 Axes>"
      ]
     },
     "metadata": {
      "needs_background": "light"
     },
     "output_type": "display_data"
    }
   ],
   "source": [
    "sns.boxplot(mh['Distance'])\n",
    "plt.show()"
   ]
  },
  {
   "cell_type": "markdown",
   "metadata": {},
   "source": [
    "As we observe there are outliers in this plot so we will use iqr method to remove the outliers but we will first check the number of outliers"
   ]
  },
  {
   "cell_type": "code",
   "execution_count": 13,
   "metadata": {},
   "outputs": [],
   "source": [
    "q1=mh.quantile(q=0.25)\n",
    "q2=mh.quantile(q=0.50)\n",
    "q3=mh.quantile(q=0.75)\n",
    "iqr=q3-q1\n",
    "ll=q1-(iqr*1.5)\n",
    "ul=q3+(iqr*1.5)"
   ]
  },
  {
   "cell_type": "code",
   "execution_count": 14,
   "metadata": {},
   "outputs": [],
   "source": [
    "mh['Distance'].fillna(mh['Distance'].mean(),inplace=True)"
   ]
  },
  {
   "cell_type": "code",
   "execution_count": 15,
   "metadata": {},
   "outputs": [
    {
     "data": {
      "image/png": "[encoded data removed]",
      "text/plain": [
       "<Figure size 432x288 with 1 Axes>"
      ]
     },
     "metadata": {
      "needs_background": "light"
     },
     "output_type": "display_data"
    }
   ],
   "source": [
    "sns.distplot(mh['Distance'],bins=100)\n",
    "plt.show()"
   ]
  },
  {
   "cell_type": "code",
   "execution_count": 16,
   "metadata": {},
   "outputs": [
    {
     "data": {
      "text/plain": [
       "1.503607382644056"
      ]
     },
     "execution_count": 16,
     "metadata": {},
     "output_type": "execute_result"
    }
   ],
   "source": [
    "mh['Distance'].skew()"
   ]
  },
  {
   "cell_type": "code",
   "execution_count": 17,
   "metadata": {},
   "outputs": [],
   "source": [
    "mh['ldistance']=np.log(mh['Distance'])"
   ]
  },
  {
   "cell_type": "code",
   "execution_count": 18,
   "metadata": {},
   "outputs": [
    {
     "data": {
      "text/plain": [
       "<matplotlib.axes._subplots.AxesSubplot at 0x278c73093c8>"
      ]
     },
     "execution_count": 18,
     "metadata": {},
     "output_type": "execute_result"
    },
    {
     "data": {
      "image/png": "[encoded data removed]",
      "text/plain": [
       "<Figure size 432x288 with 1 Axes>"
      ]
     },
     "metadata": {
      "needs_background": "light"
     },
     "output_type": "display_data"
    }
   ],
   "source": [
    "sns.distplot(mh['ldistance'],hist=False,kde=True)"
   ]
  },
  {
   "cell_type": "code",
   "execution_count": 19,
   "metadata": {},
   "outputs": [
    {
     "data": {
      "text/plain": [
       "nan"
      ]
     },
     "execution_count": 19,
     "metadata": {},
     "output_type": "execute_result"
    }
   ],
   "source": [
    "mh['ldistance'].skew()"
   ]
  },
  {
   "cell_type": "markdown",
   "metadata": {},
   "source": [
    "Finally we using zscore or standard deviation method to drop the outliers "
   ]
  },
  {
   "cell_type": "code",
   "execution_count": 20,
   "metadata": {},
   "outputs": [],
   "source": [
    "mh=mh[(np.abs(stats.zscore(mh['Distance']))<3)]"
   ]
  },
  {
   "cell_type": "code",
   "execution_count": 21,
   "metadata": {},
   "outputs": [
    {
     "data": {
      "text/plain": [
       "count    34065.000000\n",
       "mean        10.604967\n",
       "std          5.646431\n",
       "min          0.000000\n",
       "25%          6.300000\n",
       "50%         10.200000\n",
       "75%         13.900000\n",
       "max         31.400000\n",
       "Name: Distance, dtype: float64"
      ]
     },
     "execution_count": 21,
     "metadata": {},
     "output_type": "execute_result"
    }
   ],
   "source": [
    "mh['Distance'].describe()"
   ]
  },
  {
   "cell_type": "markdown",
   "metadata": {},
   "source": [
    "<span style=\"font-family: Arial; font-size:1.4em;color:green;\"> Rooms  </p> "
   ]
  },
  {
   "cell_type": "code",
   "execution_count": 22,
   "metadata": {},
   "outputs": [
    {
     "data": {
      "text/plain": [
       "count    34065.000000\n",
       "mean         3.021753\n",
       "std          0.971513\n",
       "min          1.000000\n",
       "25%          2.000000\n",
       "50%          3.000000\n",
       "75%          4.000000\n",
       "max         16.000000\n",
       "Name: Rooms, dtype: float64"
      ]
     },
     "execution_count": 22,
     "metadata": {},
     "output_type": "execute_result"
    }
   ],
   "source": [
    "mh['Rooms'].describe()"
   ]
  },
  {
   "cell_type": "code",
   "execution_count": 23,
   "metadata": {},
   "outputs": [
    {
     "data": {
      "text/plain": [
       "<matplotlib.axes._subplots.AxesSubplot at 0x278c78d8c50>"
      ]
     },
     "execution_count": 23,
     "metadata": {},
     "output_type": "execute_result"
    },
    {
     "data": {
      "image/png": "[encoded data removed]",
      "text/plain": [
       "<Figure size 432x288 with 1 Axes>"
      ]
     },
     "metadata": {
      "needs_background": "light"
     },
     "output_type": "display_data"
    }
   ],
   "source": [
    "sns.boxplot(mh['Rooms'])"
   ]
  },
  {
   "cell_type": "code",
   "execution_count": 24,
   "metadata": {},
   "outputs": [
    {
     "data": {
      "image/png": "[encoded data removed]",
      "text/plain": [
       "<Figure size 432x288 with 1 Axes>"
      ]
     },
     "metadata": {
      "needs_background": "light"
     },
     "output_type": "display_data"
    }
   ],
   "source": [
    "sns.distplot(mh['Rooms'])\n",
    "plt.show()"
   ]
  },
  {
   "cell_type": "markdown",
   "metadata": {},
   "source": [
    "We can observe that there are outliers in this column.So we need to clean it."
   ]
  },
  {
   "cell_type": "code",
   "execution_count": 25,
   "metadata": {},
   "outputs": [
    {
     "data": {
      "text/plain": [
       "3     14649\n",
       "2      8292\n",
       "4      7692\n",
       "5      1694\n",
       "1      1477\n",
       "6       200\n",
       "7        30\n",
       "8        18\n",
       "10        6\n",
       "9         4\n",
       "12        2\n",
       "16        1\n",
       "Name: Rooms, dtype: int64"
      ]
     },
     "execution_count": 25,
     "metadata": {},
     "output_type": "execute_result"
    }
   ],
   "source": [
    "mh['Rooms'].value_counts()"
   ]
  },
  {
   "cell_type": "code",
   "execution_count": 26,
   "metadata": {},
   "outputs": [],
   "source": [
    "q1=mh['Rooms'].quantile(q=0.25)\n",
    "q3=mh['Rooms'].quantile(q=0.75)\n",
    "iqr=q3-q1\n",
    "ll=q1-(1.5*iqr)\n",
    "ul=q3+(1.5*iqr)\n",
    "mh=mh[~((mh['Rooms']<ll)|(mh['Rooms']>ul))]"
   ]
  },
  {
   "cell_type": "code",
   "execution_count": 27,
   "metadata": {},
   "outputs": [
    {
     "data": {
      "text/plain": [
       "count    34034.000000\n",
       "mean         3.016278\n",
       "std          0.953461\n",
       "min          1.000000\n",
       "25%          2.000000\n",
       "50%          3.000000\n",
       "75%          4.000000\n",
       "max          7.000000\n",
       "Name: Rooms, dtype: float64"
      ]
     },
     "execution_count": 27,
     "metadata": {},
     "output_type": "execute_result"
    }
   ],
   "source": [
    "mh['Rooms'].describe()"
   ]
  },
  {
   "cell_type": "markdown",
   "metadata": {},
   "source": [
    "The outliers have been reduced."
   ]
  },
  {
   "cell_type": "code",
   "execution_count": 28,
   "metadata": {},
   "outputs": [
    {
     "data": {
      "text/plain": [
       "<matplotlib.axes._subplots.AxesSubplot at 0x278c852b588>"
      ]
     },
     "execution_count": 28,
     "metadata": {},
     "output_type": "execute_result"
    },
    {
     "data": {
      "image/png": "[encoded data removed]",
      "text/plain": [
       "<Figure size 432x288 with 1 Axes>"
      ]
     },
     "metadata": {
      "needs_background": "light"
     },
     "output_type": "display_data"
    }
   ],
   "source": [
    "sns.boxplot(mh['Rooms'])"
   ]
  },
  {
   "cell_type": "markdown",
   "metadata": {},
   "source": [
    "<span style=\"font-family: Arial; font-size:1.4em;color:green;\"> Postcode </p> "
   ]
  },
  {
   "cell_type": "code",
   "execution_count": 29,
   "metadata": {},
   "outputs": [
    {
     "data": {
      "text/plain": [
       "count    34033.000000\n",
       "mean      3108.145153\n",
       "std         88.438876\n",
       "min       3000.000000\n",
       "25%       3047.000000\n",
       "50%       3101.000000\n",
       "75%       3150.000000\n",
       "max       3802.000000\n",
       "Name: Postcode, dtype: float64"
      ]
     },
     "execution_count": 29,
     "metadata": {},
     "output_type": "execute_result"
    }
   ],
   "source": [
    "mh['Postcode'].describe()"
   ]
  },
  {
   "cell_type": "code",
   "execution_count": 30,
   "metadata": {},
   "outputs": [
    {
     "data": {
      "text/plain": [
       "1"
      ]
     },
     "execution_count": 30,
     "metadata": {},
     "output_type": "execute_result"
    }
   ],
   "source": [
    "mh['Postcode'].isnull().sum()"
   ]
  },
  {
   "cell_type": "code",
   "execution_count": 31,
   "metadata": {},
   "outputs": [],
   "source": [
    "mh['Postcode'].fillna(mh['Postcode'].mode()[0],inplace=True)"
   ]
  },
  {
   "cell_type": "code",
   "execution_count": 32,
   "metadata": {
    "scrolled": true
   },
   "outputs": [
    {
     "data": {
      "text/plain": [
       "3073.0    845\n",
       "3046.0    638\n",
       "3020.0    617\n",
       "3121.0    612\n",
       "3165.0    583\n",
       "3058.0    555\n",
       "3040.0    533\n",
       "3204.0    518\n",
       "3163.0    508\n",
       "3032.0    497\n",
       "3012.0    497\n",
       "3146.0    491\n",
       "3072.0    484\n",
       "3181.0    467\n",
       "3101.0    466\n",
       "3186.0    455\n",
       "3056.0    444\n",
       "3084.0    442\n",
       "3141.0    435\n",
       "3122.0    427\n",
       "3070.0    424\n",
       "3124.0    422\n",
       "3104.0    420\n",
       "3127.0    405\n",
       "3188.0    395\n",
       "3145.0    393\n",
       "3187.0    392\n",
       "3044.0    378\n",
       "3011.0    375\n",
       "3182.0    374\n",
       "         ... \n",
       "3022.0     33\n",
       "3089.0     31\n",
       "3093.0     28\n",
       "3177.0     28\n",
       "3802.0     26\n",
       "3180.0     25\n",
       "3036.0     23\n",
       "3137.0     22\n",
       "3061.0     20\n",
       "3179.0     19\n",
       "3113.0     19\n",
       "3335.0     17\n",
       "3008.0     16\n",
       "3116.0     12\n",
       "3427.0     10\n",
       "3027.0      7\n",
       "3140.0      7\n",
       "3202.0      5\n",
       "3154.0      5\n",
       "3115.0      3\n",
       "3160.0      3\n",
       "3090.0      2\n",
       "3158.0      2\n",
       "3099.0      2\n",
       "3096.0      2\n",
       "3765.0      2\n",
       "3788.0      1\n",
       "3428.0      1\n",
       "3775.0      1\n",
       "3786.0      1\n",
       "Name: Postcode, Length: 179, dtype: int64"
      ]
     },
     "execution_count": 32,
     "metadata": {},
     "output_type": "execute_result"
    }
   ],
   "source": [
    "mh['Postcode'].value_counts()"
   ]
  },
  {
   "cell_type": "code",
   "execution_count": 33,
   "metadata": {},
   "outputs": [
    {
     "data": {
      "text/plain": [
       "0"
      ]
     },
     "execution_count": 33,
     "metadata": {},
     "output_type": "execute_result"
    }
   ],
   "source": [
    "mh['Postcode'].isnull().sum()"
   ]
  },
  {
   "cell_type": "code",
   "execution_count": 34,
   "metadata": {},
   "outputs": [
    {
     "data": {
      "text/plain": [
       "<matplotlib.axes._subplots.AxesSubplot at 0x278c84de9b0>"
      ]
     },
     "execution_count": 34,
     "metadata": {},
     "output_type": "execute_result"
    },
    {
     "data": {
      "image/png": "[encoded data removed]",
      "text/plain": [
       "<Figure size 432x288 with 1 Axes>"
      ]
     },
     "metadata": {
      "needs_background": "light"
     },
     "output_type": "display_data"
    }
   ],
   "source": [
    "sns.boxplot(mh['Postcode'])"
   ]
  },
  {
   "cell_type": "code",
   "execution_count": 35,
   "metadata": {},
   "outputs": [],
   "source": [
    "q1=mh['Postcode'].quantile(q=0.25)\n",
    "q3=mh['Postcode'].quantile(q=0.75)\n",
    "iqr=q3-q1\n",
    "ll=q1-(1.5*iqr)\n",
    "ul=q3+(1.5*iqr)"
   ]
  },
  {
   "cell_type": "code",
   "execution_count": 36,
   "metadata": {},
   "outputs": [],
   "source": [
    "mh=mh[~((mh['Postcode']<ll)|(mh['Postcode']>ul))]"
   ]
  },
  {
   "cell_type": "code",
   "execution_count": 37,
   "metadata": {},
   "outputs": [
    {
     "data": {
      "text/plain": [
       "count    33601.000000\n",
       "mean      3100.968334\n",
       "std         59.123778\n",
       "min       3000.000000\n",
       "25%       3047.000000\n",
       "50%       3101.000000\n",
       "75%       3148.000000\n",
       "max       3207.000000\n",
       "Name: Postcode, dtype: float64"
      ]
     },
     "execution_count": 37,
     "metadata": {},
     "output_type": "execute_result"
    }
   ],
   "source": [
    "mh['Postcode'].describe()"
   ]
  },
  {
   "cell_type": "code",
   "execution_count": 38,
   "metadata": {},
   "outputs": [
    {
     "data": {
      "image/png": "[encoded data removed]",
      "text/plain": [
       "<Figure size 432x288 with 1 Axes>"
      ]
     },
     "metadata": {
      "needs_background": "light"
     },
     "output_type": "display_data"
    }
   ],
   "source": [
    "sns.distplot(mh['Postcode'])\n",
    "plt.show()"
   ]
  },
  {
   "cell_type": "markdown",
   "metadata": {},
   "source": [
    "<span style=\"font-family: Arial; font-size:1.4em;color:green;\"> Bedroom </p> "
   ]
  },
  {
   "cell_type": "code",
   "execution_count": 39,
   "metadata": {},
   "outputs": [
    {
     "data": {
      "text/plain": [
       "count    25597.000000\n",
       "mean         3.064422\n",
       "std          0.972283\n",
       "min          0.000000\n",
       "25%          2.000000\n",
       "50%          3.000000\n",
       "75%          4.000000\n",
       "max         30.000000\n",
       "Name: Bedroom, dtype: float64"
      ]
     },
     "execution_count": 39,
     "metadata": {},
     "output_type": "execute_result"
    }
   ],
   "source": [
    "mh['Bedroom'].describe()"
   ]
  },
  {
   "cell_type": "code",
   "execution_count": 40,
   "metadata": {},
   "outputs": [],
   "source": [
    "q1=mh['Bedroom'].quantile(q=0.25)\n",
    "q3=mh['Bedroom'].quantile(q=0.75)\n",
    "iqr=q3-q1\n",
    "ll=q1-(1.5*iqr)\n",
    "ul=q3+(1.5*iqr)"
   ]
  },
  {
   "cell_type": "code",
   "execution_count": 41,
   "metadata": {},
   "outputs": [],
   "source": [
    "mh=mh[~((mh['Bedroom']<ll)|(mh['Bedroom']>ul))]"
   ]
  },
  {
   "cell_type": "code",
   "execution_count": 42,
   "metadata": {},
   "outputs": [],
   "source": [
    "mh['Bedroom'].fillna(mh['Bedroom'].mode()[0],inplace=True)"
   ]
  },
  {
   "cell_type": "code",
   "execution_count": 43,
   "metadata": {},
   "outputs": [
    {
     "data": {
      "text/plain": [
       "0"
      ]
     },
     "execution_count": 43,
     "metadata": {},
     "output_type": "execute_result"
    }
   ],
   "source": [
    "mh['Bedroom'].isnull().sum()"
   ]
  },
  {
   "cell_type": "code",
   "execution_count": 44,
   "metadata": {},
   "outputs": [
    {
     "data": {
      "text/plain": [
       "<matplotlib.axes._subplots.AxesSubplot at 0x278c7cffe80>"
      ]
     },
     "execution_count": 44,
     "metadata": {},
     "output_type": "execute_result"
    },
    {
     "data": {
      "image/png": "[encoded data removed]",
      "text/plain": [
       "<Figure size 432x288 with 1 Axes>"
      ]
     },
     "metadata": {
      "needs_background": "light"
     },
     "output_type": "display_data"
    }
   ],
   "source": [
    "sns.distplot(mh['Bedroom'])"
   ]
  },
  {
   "cell_type": "code",
   "execution_count": 45,
   "metadata": {},
   "outputs": [
    {
     "data": {
      "text/plain": [
       "count    33594.000000\n",
       "mean         3.046854\n",
       "std          0.827738\n",
       "min          0.000000\n",
       "25%          3.000000\n",
       "50%          3.000000\n",
       "75%          3.000000\n",
       "max          7.000000\n",
       "Name: Bedroom, dtype: float64"
      ]
     },
     "execution_count": 45,
     "metadata": {},
     "output_type": "execute_result"
    }
   ],
   "source": [
    "mh['Bedroom'].describe()"
   ]
  },
  {
   "cell_type": "markdown",
   "metadata": {},
   "source": [
    "<span style=\"font-family: Arial; font-size:1.4em;color:green;\"> Bathroom </p> "
   ]
  },
  {
   "cell_type": "code",
   "execution_count": 46,
   "metadata": {},
   "outputs": [
    {
     "data": {
      "text/plain": [
       "count    25581.00000\n",
       "mean         1.61444\n",
       "std          0.71574\n",
       "min          0.00000\n",
       "25%          1.00000\n",
       "50%          2.00000\n",
       "75%          2.00000\n",
       "max          7.00000\n",
       "Name: Bathroom, dtype: float64"
      ]
     },
     "execution_count": 46,
     "metadata": {},
     "output_type": "execute_result"
    }
   ],
   "source": [
    "mh['Bathroom'].describe()"
   ]
  },
  {
   "cell_type": "code",
   "execution_count": 47,
   "metadata": {},
   "outputs": [
    {
     "data": {
      "text/plain": [
       "<matplotlib.axes._subplots.AxesSubplot at 0x278c7cbfcf8>"
      ]
     },
     "execution_count": 47,
     "metadata": {},
     "output_type": "execute_result"
    },
    {
     "data": {
      "image/png": "[encoded data removed]",
      "text/plain": [
       "<Figure size 432x288 with 1 Axes>"
      ]
     },
     "metadata": {
      "needs_background": "light"
     },
     "output_type": "display_data"
    }
   ],
   "source": [
    "sns.boxplot(mh['Bathroom'])"
   ]
  },
  {
   "cell_type": "code",
   "execution_count": 48,
   "metadata": {},
   "outputs": [
    {
     "data": {
      "text/plain": [
       "<matplotlib.axes._subplots.AxesSubplot at 0x278c7d3bd68>"
      ]
     },
     "execution_count": 48,
     "metadata": {},
     "output_type": "execute_result"
    },
    {
     "data": {
      "image/png": "[encoded data removed]",
      "text/plain": [
       "<Figure size 432x288 with 1 Axes>"
      ]
     },
     "metadata": {
      "needs_background": "light"
     },
     "output_type": "display_data"
    }
   ],
   "source": [
    "sns.distplot(mh['Bathroom'].dropna())"
   ]
  },
  {
   "cell_type": "code",
   "execution_count": 49,
   "metadata": {},
   "outputs": [],
   "source": [
    "q1=mh['Bathroom'].quantile(q=0.25)\n",
    "q3=mh['Bathroom'].quantile(q=0.75)\n",
    "iqr=q3-q1\n",
    "ll=q1-(1.5*iqr)\n",
    "ul=q3+(1.5*iqr)"
   ]
  },
  {
   "cell_type": "code",
   "execution_count": 50,
   "metadata": {},
   "outputs": [],
   "source": [
    "mh=mh[~((mh['Bathroom']<ll)|(mh['Bathroom']>ul))]"
   ]
  },
  {
   "cell_type": "code",
   "execution_count": 51,
   "metadata": {},
   "outputs": [],
   "source": [
    "mh['Bathroom'].fillna(mh['Bathroom'].mode()[0],inplace=True)"
   ]
  },
  {
   "cell_type": "code",
   "execution_count": 52,
   "metadata": {},
   "outputs": [
    {
     "data": {
      "text/plain": [
       "count    33252.000000\n",
       "mean         1.438710\n",
       "std          0.613525\n",
       "min          0.000000\n",
       "25%          1.000000\n",
       "50%          1.000000\n",
       "75%          2.000000\n",
       "max          3.000000\n",
       "Name: Bathroom, dtype: float64"
      ]
     },
     "execution_count": 52,
     "metadata": {},
     "output_type": "execute_result"
    }
   ],
   "source": [
    "mh['Bathroom'].describe()"
   ]
  },
  {
   "cell_type": "code",
   "execution_count": 53,
   "metadata": {},
   "outputs": [
    {
     "data": {
      "text/plain": [
       "1.0    20690\n",
       "2.0    10398\n",
       "3.0     2118\n",
       "0.0       46\n",
       "Name: Bathroom, dtype: int64"
      ]
     },
     "execution_count": 53,
     "metadata": {},
     "output_type": "execute_result"
    }
   ],
   "source": [
    "mh['Bathroom'].value_counts()"
   ]
  },
  {
   "cell_type": "markdown",
   "metadata": {},
   "source": [
    "<span style=\"font-family: Arial; font-size:1.4em;color:green;\"> Landsize </p> "
   ]
  },
  {
   "cell_type": "code",
   "execution_count": 54,
   "metadata": {},
   "outputs": [
    {
     "data": {
      "text/plain": [
       "11334"
      ]
     },
     "execution_count": 54,
     "metadata": {},
     "output_type": "execute_result"
    }
   ],
   "source": [
    "mh['Landsize'].isnull().sum()"
   ]
  },
  {
   "cell_type": "code",
   "execution_count": 55,
   "metadata": {},
   "outputs": [
    {
     "data": {
      "text/plain": [
       "count     21918.000000\n",
       "mean        550.350306\n",
       "std        3099.856977\n",
       "min           0.000000\n",
       "25%         214.000000\n",
       "50%         501.000000\n",
       "75%         664.000000\n",
       "max      433014.000000\n",
       "Name: Landsize, dtype: float64"
      ]
     },
     "execution_count": 55,
     "metadata": {},
     "output_type": "execute_result"
    }
   ],
   "source": [
    "mh['Landsize'].describe()"
   ]
  },
  {
   "cell_type": "code",
   "execution_count": 56,
   "metadata": {
    "scrolled": true
   },
   "outputs": [
    {
     "data": {
      "text/plain": [
       "0.0       2433\n",
       "650.0      187\n",
       "697.0      118\n",
       "585.0       92\n",
       "604.0       80\n",
       "534.0       79\n",
       "700.0       77\n",
       "696.0       76\n",
       "600.0       60\n",
       "590.0       59\n",
       "653.0       59\n",
       "530.0       59\n",
       "652.0       59\n",
       "557.0       57\n",
       "581.0       56\n",
       "531.0       55\n",
       "400.0       54\n",
       "654.0       53\n",
       "603.0       53\n",
       "535.0       51\n",
       "602.0       51\n",
       "660.0       51\n",
       "649.0       50\n",
       "725.0       50\n",
       "651.0       49\n",
       "586.0       49\n",
       "613.0       49\n",
       "560.0       48\n",
       "612.0       48\n",
       "589.0       48\n",
       "          ... \n",
       "3434.0       1\n",
       "5325.0       1\n",
       "1389.0       1\n",
       "2692.0       1\n",
       "1717.0       1\n",
       "1996.0       1\n",
       "1317.0       1\n",
       "2120.0       1\n",
       "2925.0       1\n",
       "3705.0       1\n",
       "1209.0       1\n",
       "1556.0       1\n",
       "1302.0       1\n",
       "4332.0       1\n",
       "1339.0       1\n",
       "5865.0       1\n",
       "1751.0       1\n",
       "3132.0       1\n",
       "1256.0       1\n",
       "2673.0       1\n",
       "1042.0       1\n",
       "3414.0       1\n",
       "1465.0       1\n",
       "38.0         1\n",
       "1230.0       1\n",
       "1606.0       1\n",
       "2927.0       1\n",
       "4829.0       1\n",
       "1176.0       1\n",
       "4292.0       1\n",
       "Name: Landsize, Length: 1617, dtype: int64"
      ]
     },
     "execution_count": 56,
     "metadata": {},
     "output_type": "execute_result"
    }
   ],
   "source": [
    "mh['Landsize'].value_counts()"
   ]
  },
  {
   "cell_type": "code",
   "execution_count": 57,
   "metadata": {
    "scrolled": true
   },
   "outputs": [
    {
     "data": {
      "text/plain": [
       "<matplotlib.axes._subplots.AxesSubplot at 0x278c7d6ecc0>"
      ]
     },
     "execution_count": 57,
     "metadata": {},
     "output_type": "execute_result"
    },
    {
     "data": {
      "image/png": "[encoded data removed]",
      "text/plain": [
       "<Figure size 432x288 with 1 Axes>"
      ]
     },
     "metadata": {
      "needs_background": "light"
     },
     "output_type": "display_data"
    }
   ],
   "source": [
    "sns.boxplot(mh['Landsize'])"
   ]
  },
  {
   "cell_type": "code",
   "execution_count": 58,
   "metadata": {},
   "outputs": [],
   "source": [
    "q1=mh['Landsize'].quantile(q=0.25)\n",
    "q3=mh['Landsize'].quantile(q=0.75)\n",
    "iqr=q3-q1\n",
    "ll=q1-(1.5*iqr)\n",
    "ul=q3+(1.5*iqr)"
   ]
  },
  {
   "cell_type": "code",
   "execution_count": 59,
   "metadata": {},
   "outputs": [
    {
     "name": "stdout",
     "output_type": "stream",
     "text": [
      "-461.0 1339.0\n"
     ]
    }
   ],
   "source": [
    "print(ll,ul)"
   ]
  },
  {
   "cell_type": "code",
   "execution_count": 60,
   "metadata": {},
   "outputs": [],
   "source": [
    "mh['Landsize']=mh['Landsize'].map(lambda x:np.NaN if ((x<550)|(x>1339))else x)"
   ]
  },
  {
   "cell_type": "code",
   "execution_count": 61,
   "metadata": {
    "scrolled": true
   },
   "outputs": [],
   "source": [
    "mh['Landsize'].fillna(method='bfill',inplace=True)"
   ]
  },
  {
   "cell_type": "code",
   "execution_count": 62,
   "metadata": {},
   "outputs": [
    {
     "data": {
      "text/plain": [
       "0"
      ]
     },
     "execution_count": 62,
     "metadata": {},
     "output_type": "execute_result"
    }
   ],
   "source": [
    "mh['Landsize'].isnull().sum()"
   ]
  },
  {
   "cell_type": "code",
   "execution_count": 63,
   "metadata": {},
   "outputs": [
    {
     "data": {
      "image/png": "[encoded data removed]",
      "text/plain": [
       "<Figure size 432x288 with 1 Axes>"
      ]
     },
     "metadata": {
      "needs_background": "light"
     },
     "output_type": "display_data"
    }
   ],
   "source": [
    "sns.distplot(mh['Landsize'])\n",
    "plt.show()"
   ]
  },
  {
   "cell_type": "markdown",
   "metadata": {},
   "source": [
    "<span style=\"font-family: Arial; font-size:1.4em;color:red;\"> Car </p> "
   ]
  },
  {
   "cell_type": "code",
   "execution_count": 64,
   "metadata": {},
   "outputs": [
    {
     "data": {
      "text/plain": [
       "count    24756.000000\n",
       "mean         1.698497\n",
       "std          0.991166\n",
       "min          0.000000\n",
       "25%          1.000000\n",
       "50%          2.000000\n",
       "75%          2.000000\n",
       "max         26.000000\n",
       "Name: Car, dtype: float64"
      ]
     },
     "execution_count": 64,
     "metadata": {},
     "output_type": "execute_result"
    }
   ],
   "source": [
    "mh['Car'].describe()"
   ]
  },
  {
   "cell_type": "code",
   "execution_count": 65,
   "metadata": {},
   "outputs": [
    {
     "data": {
      "image/png": "[encoded data removed]",
      "text/plain": [
       "<Figure size 432x288 with 1 Axes>"
      ]
     },
     "metadata": {
      "needs_background": "light"
     },
     "output_type": "display_data"
    }
   ],
   "source": [
    "sns.boxplot(mh['Car'])\n",
    "plt.show()"
   ]
  },
  {
   "cell_type": "code",
   "execution_count": 66,
   "metadata": {},
   "outputs": [],
   "source": [
    "q1=mh['Car'].quantile(q=0.25)\n",
    "q3=mh['Car'].quantile(q=0.75)\n",
    "iqr=q3-q1\n",
    "ll=q1-(1.5*iqr)\n",
    "ul=q3+(1.5*iqr)"
   ]
  },
  {
   "cell_type": "code",
   "execution_count": 67,
   "metadata": {},
   "outputs": [
    {
     "data": {
      "text/plain": [
       "2.0     11352\n",
       "1.0      8996\n",
       "0.0      1595\n",
       "3.0      1490\n",
       "4.0      1025\n",
       "5.0       132\n",
       "6.0       119\n",
       "7.0        19\n",
       "8.0        16\n",
       "10.0        5\n",
       "9.0         3\n",
       "11.0        2\n",
       "26.0        1\n",
       "18.0        1\n",
       "Name: Car, dtype: int64"
      ]
     },
     "execution_count": 67,
     "metadata": {},
     "output_type": "execute_result"
    }
   ],
   "source": [
    "mh['Car'].value_counts()"
   ]
  },
  {
   "cell_type": "code",
   "execution_count": 68,
   "metadata": {},
   "outputs": [
    {
     "data": {
      "text/plain": [
       "count    24756.000000\n",
       "mean         1.698497\n",
       "std          0.991166\n",
       "min          0.000000\n",
       "25%          1.000000\n",
       "50%          2.000000\n",
       "75%          2.000000\n",
       "max         26.000000\n",
       "Name: Car, dtype: float64"
      ]
     },
     "execution_count": 68,
     "metadata": {},
     "output_type": "execute_result"
    }
   ],
   "source": [
    "mh['Car'].describe()"
   ]
  },
  {
   "cell_type": "code",
   "execution_count": 69,
   "metadata": {},
   "outputs": [
    {
     "name": "stdout",
     "output_type": "stream",
     "text": [
      "-0.5 3.5\n"
     ]
    }
   ],
   "source": [
    "print(ll,ul)"
   ]
  },
  {
   "cell_type": "code",
   "execution_count": 70,
   "metadata": {},
   "outputs": [],
   "source": [
    "mh['Car']=mh['Car'].map(lambda x:np.NaN if ((x<0)|(x>3.5))else x)"
   ]
  },
  {
   "cell_type": "code",
   "execution_count": 71,
   "metadata": {},
   "outputs": [
    {
     "data": {
      "text/plain": [
       "0"
      ]
     },
     "execution_count": 71,
     "metadata": {},
     "output_type": "execute_result"
    }
   ],
   "source": [
    "len(mh[mh['Car']>3.5])"
   ]
  },
  {
   "cell_type": "code",
   "execution_count": 72,
   "metadata": {},
   "outputs": [
    {
     "data": {
      "text/plain": [
       "<matplotlib.axes._subplots.AxesSubplot at 0x278c7d866d8>"
      ]
     },
     "execution_count": 72,
     "metadata": {},
     "output_type": "execute_result"
    },
    {
     "data": {
      "image/png": "[encoded data removed]",
      "text/plain": [
       "<Figure size 432x288 with 1 Axes>"
      ]
     },
     "metadata": {
      "needs_background": "light"
     },
     "output_type": "display_data"
    }
   ],
   "source": [
    "sns.distplot(mh['Car'].dropna())"
   ]
  },
  {
   "cell_type": "code",
   "execution_count": 73,
   "metadata": {},
   "outputs": [],
   "source": [
    "mh['Car']=mh['Car'].fillna(method='ffill')"
   ]
  },
  {
   "cell_type": "code",
   "execution_count": 74,
   "metadata": {},
   "outputs": [
    {
     "data": {
      "image/png": "[encoded data removed]",
      "text/plain": [
       "<Figure size 432x288 with 1 Axes>"
      ]
     },
     "metadata": {
      "needs_background": "light"
     },
     "output_type": "display_data"
    }
   ],
   "source": [
    "sns.distplot(mh['Car'])\n",
    "plt.show()"
   ]
  },
  {
   "cell_type": "markdown",
   "metadata": {},
   "source": [
    "<span style=\"font-family: Arial; font-size:1.4em;color:red;\"> YearBuild </p> "
   ]
  },
  {
   "cell_type": "code",
   "execution_count": 75,
   "metadata": {},
   "outputs": [
    {
     "data": {
      "text/plain": [
       "count    14677.000000\n",
       "mean      1964.081829\n",
       "std         37.468665\n",
       "min       1196.000000\n",
       "25%       1940.000000\n",
       "50%       1970.000000\n",
       "75%       1999.000000\n",
       "max       2106.000000\n",
       "Name: YearBuilt, dtype: float64"
      ]
     },
     "execution_count": 75,
     "metadata": {},
     "output_type": "execute_result"
    }
   ],
   "source": [
    "mh['YearBuilt'].describe()"
   ]
  },
  {
   "cell_type": "code",
   "execution_count": 76,
   "metadata": {},
   "outputs": [
    {
     "data": {
      "text/plain": [
       "<matplotlib.axes._subplots.AxesSubplot at 0x278c86a0f98>"
      ]
     },
     "execution_count": 76,
     "metadata": {},
     "output_type": "execute_result"
    },
    {
     "data": {
      "image/png": "[encoded data removed]",
      "text/plain": [
       "<Figure size 432x288 with 1 Axes>"
      ]
     },
     "metadata": {
      "needs_background": "light"
     },
     "output_type": "display_data"
    }
   ],
   "source": [
    "sns.boxplot(mh['YearBuilt'])"
   ]
  },
  {
   "cell_type": "code",
   "execution_count": 77,
   "metadata": {},
   "outputs": [],
   "source": [
    "q1=mh['YearBuilt'].quantile(q=0.25)\n",
    "q3=mh['YearBuilt'].quantile(q=0.75)\n",
    "iqr=q3-q1\n",
    "ll=q1-(1.5*iqr)\n",
    "ul=q3+(1.5*iqr)"
   ]
  },
  {
   "cell_type": "code",
   "execution_count": 78,
   "metadata": {},
   "outputs": [],
   "source": [
    "mh=mh[~((mh['YearBuilt']<ll)|(mh['YearBuilt']>ul))]"
   ]
  },
  {
   "cell_type": "code",
   "execution_count": 79,
   "metadata": {},
   "outputs": [],
   "source": [
    "mh['YearBuilt'].fillna(method='bfill',inplace=True)"
   ]
  },
  {
   "cell_type": "code",
   "execution_count": 80,
   "metadata": {},
   "outputs": [
    {
     "data": {
      "text/plain": [
       "<matplotlib.axes._subplots.AxesSubplot at 0x278c7c077b8>"
      ]
     },
     "execution_count": 80,
     "metadata": {},
     "output_type": "execute_result"
    },
    {
     "data": {
      "image/png": "[encoded data removed]",
      "text/plain": [
       "<Figure size 432x288 with 1 Axes>"
      ]
     },
     "metadata": {
      "needs_background": "light"
     },
     "output_type": "display_data"
    }
   ],
   "source": [
    "sns.distplot(mh['YearBuilt'])"
   ]
  },
  {
   "cell_type": "markdown",
   "metadata": {},
   "source": [
    "<span style=\"font-family: Arial; font-size:1.4em;color:green;\"> Latitude </p> "
   ]
  },
  {
   "cell_type": "code",
   "execution_count": 81,
   "metadata": {},
   "outputs": [
    {
     "data": {
      "text/plain": [
       "count    25470.000000\n",
       "mean       -37.810516\n",
       "std          0.078242\n",
       "min        -38.079600\n",
       "25%        -37.861280\n",
       "50%        -37.808015\n",
       "75%        -37.757185\n",
       "max        -37.530400\n",
       "Name: Latitude, dtype: float64"
      ]
     },
     "execution_count": 81,
     "metadata": {},
     "output_type": "execute_result"
    }
   ],
   "source": [
    "mh['Latitude'].describe()"
   ]
  },
  {
   "cell_type": "code",
   "execution_count": 82,
   "metadata": {},
   "outputs": [
    {
     "data": {
      "text/plain": [
       "<matplotlib.axes._subplots.AxesSubplot at 0x278c7525240>"
      ]
     },
     "execution_count": 82,
     "metadata": {},
     "output_type": "execute_result"
    },
    {
     "data": {
      "image/png": "[encoded data removed]",
      "text/plain": [
       "<Figure size 432x288 with 1 Axes>"
      ]
     },
     "metadata": {
      "needs_background": "light"
     },
     "output_type": "display_data"
    }
   ],
   "source": [
    "sns.boxplot(mh['Latitude'])"
   ]
  },
  {
   "cell_type": "code",
   "execution_count": 83,
   "metadata": {},
   "outputs": [],
   "source": [
    "q1=mh['Latitude'].quantile(q=0.25)\n",
    "q3=mh['Latitude'].quantile(q=0.75)\n",
    "iqr=q3-q1\n",
    "ll=q1-(1.5*iqr)\n",
    "ul=q3+(1.5*iqr)"
   ]
  },
  {
   "cell_type": "code",
   "execution_count": 84,
   "metadata": {},
   "outputs": [
    {
     "data": {
      "text/plain": [
       "129"
      ]
     },
     "execution_count": 84,
     "metadata": {},
     "output_type": "execute_result"
    }
   ],
   "source": [
    "len(mh[mh['Latitude']<ll])"
   ]
  },
  {
   "cell_type": "code",
   "execution_count": 85,
   "metadata": {},
   "outputs": [],
   "source": [
    "mh['Latitude']=mh['Latitude'].map(lambda x:np.NaN if ((x<ll)|(x>ul))else x)"
   ]
  },
  {
   "cell_type": "code",
   "execution_count": 86,
   "metadata": {},
   "outputs": [],
   "source": [
    "mh['Latitude'].fillna(method='ffill',inplace=True)"
   ]
  },
  {
   "cell_type": "code",
   "execution_count": 87,
   "metadata": {},
   "outputs": [
    {
     "data": {
      "image/png": "[encoded data removed]",
      "text/plain": [
       "<Figure size 432x288 with 1 Axes>"
      ]
     },
     "metadata": {
      "needs_background": "light"
     },
     "output_type": "display_data"
    }
   ],
   "source": [
    "sns.distplot(mh['Latitude'])\n",
    "plt.show()"
   ]
  },
  {
   "cell_type": "markdown",
   "metadata": {},
   "source": [
    "<span style=\"font-family: Arial; font-size:1.4em;color:green;\"> Longtitude </p> "
   ]
  },
  {
   "cell_type": "code",
   "execution_count": 88,
   "metadata": {},
   "outputs": [
    {
     "data": {
      "text/plain": [
       "count    25470.000000\n",
       "mean       145.001609\n",
       "std          0.110224\n",
       "min        144.597410\n",
       "25%        144.933885\n",
       "50%        145.005755\n",
       "75%        145.067695\n",
       "max        145.369470\n",
       "Name: Longtitude, dtype: float64"
      ]
     },
     "execution_count": 88,
     "metadata": {},
     "output_type": "execute_result"
    }
   ],
   "source": [
    "mh['Longtitude'].describe()"
   ]
  },
  {
   "cell_type": "code",
   "execution_count": 89,
   "metadata": {},
   "outputs": [
    {
     "data": {
      "text/plain": [
       "<matplotlib.axes._subplots.AxesSubplot at 0x278c8719048>"
      ]
     },
     "execution_count": 89,
     "metadata": {},
     "output_type": "execute_result"
    },
    {
     "data": {
      "image/png": "[encoded data removed]",
      "text/plain": [
       "<Figure size 432x288 with 1 Axes>"
      ]
     },
     "metadata": {
      "needs_background": "light"
     },
     "output_type": "display_data"
    }
   ],
   "source": [
    "sns.boxplot(mh['Longtitude'])"
   ]
  },
  {
   "cell_type": "code",
   "execution_count": 90,
   "metadata": {},
   "outputs": [],
   "source": [
    "q1=mh['Longtitude'].quantile(q=0.25)\n",
    "q3=mh['Longtitude'].quantile(q=0.75)\n",
    "iqr=q3-q1\n",
    "ll=q1-(1.5*iqr)\n",
    "ul=q3+(1.5*iqr)"
   ]
  },
  {
   "cell_type": "code",
   "execution_count": 91,
   "metadata": {},
   "outputs": [],
   "source": [
    "mh['Longtitude']=mh['Longtitude'].map(lambda x:np.NaN if ((x<ll)|(x>ul))else x)"
   ]
  },
  {
   "cell_type": "code",
   "execution_count": 92,
   "metadata": {},
   "outputs": [],
   "source": [
    "mh['Longtitude'].fillna(method='ffill',inplace=True)"
   ]
  },
  {
   "cell_type": "code",
   "execution_count": 93,
   "metadata": {},
   "outputs": [
    {
     "data": {
      "image/png": "[encoded data removed]",
      "text/plain": [
       "<Figure size 432x288 with 1 Axes>"
      ]
     },
     "metadata": {
      "needs_background": "light"
     },
     "output_type": "display_data"
    }
   ],
   "source": [
    "sns.distplot(mh['Longtitude'])\n",
    "plt.show()"
   ]
  },
  {
   "cell_type": "markdown",
   "metadata": {},
   "source": [
    "<span style=\"font-family: Arial; font-size:1.4em;color:green;\"> Propertycount </p> "
   ]
  },
  {
   "cell_type": "code",
   "execution_count": 94,
   "metadata": {},
   "outputs": [
    {
     "data": {
      "text/plain": [
       "count    33240.000000\n",
       "mean      7538.949308\n",
       "std       4406.784543\n",
       "min        121.000000\n",
       "25%       4385.000000\n",
       "50%       6567.000000\n",
       "75%      10331.000000\n",
       "max      21650.000000\n",
       "Name: Propertycount, dtype: float64"
      ]
     },
     "execution_count": 94,
     "metadata": {},
     "output_type": "execute_result"
    }
   ],
   "source": [
    "mh['Propertycount'].describe()"
   ]
  },
  {
   "cell_type": "code",
   "execution_count": 95,
   "metadata": {},
   "outputs": [],
   "source": [
    "q1=mh['Propertycount'].quantile(q=0.25)\n",
    "q3=mh['Propertycount'].quantile(q=0.75)\n",
    "iqr=q3-q1\n",
    "ll=q1-(1.5*iqr)\n",
    "ul=q3+(1.5*iqr)"
   ]
  },
  {
   "cell_type": "code",
   "execution_count": 96,
   "metadata": {},
   "outputs": [
    {
     "name": "stdout",
     "output_type": "stream",
     "text": [
      "-4534.0 19250.0\n"
     ]
    }
   ],
   "source": [
    "print(ll,ul)"
   ]
  },
  {
   "cell_type": "code",
   "execution_count": 97,
   "metadata": {},
   "outputs": [
    {
     "data": {
      "text/plain": [
       "0"
      ]
     },
     "execution_count": 97,
     "metadata": {},
     "output_type": "execute_result"
    }
   ],
   "source": [
    "len(mh[mh['Propertycount']<ll])"
   ]
  },
  {
   "cell_type": "code",
   "execution_count": 98,
   "metadata": {},
   "outputs": [],
   "source": [
    "mh['Propertycount']=mh['Propertycount'].map(lambda x:np.NaN if ((x<ll)|(x>ul))else x)"
   ]
  },
  {
   "cell_type": "code",
   "execution_count": 99,
   "metadata": {},
   "outputs": [],
   "source": [
    "mh['Propertycount'].fillna(method='ffill',inplace=True)"
   ]
  },
  {
   "cell_type": "code",
   "execution_count": 100,
   "metadata": {},
   "outputs": [
    {
     "data": {
      "image/png": "[encoded data removed]",
      "text/plain": [
       "<Figure size 432x288 with 1 Axes>"
      ]
     },
     "metadata": {
      "needs_background": "light"
     },
     "output_type": "display_data"
    }
   ],
   "source": [
    "sns.distplot(mh['Propertycount'])\n",
    "plt.show()"
   ]
  },
  {
   "cell_type": "code",
   "execution_count": 101,
   "metadata": {},
   "outputs": [],
   "source": [
    "mh.drop('ldistance',axis=1,inplace=True)"
   ]
  },
  {
   "cell_type": "markdown",
   "metadata": {},
   "source": [
    "<span style=\"font-family: Arial; font-size:1.4em;color:red;\"> Price </p> "
   ]
  },
  {
   "cell_type": "code",
   "execution_count": 102,
   "metadata": {},
   "outputs": [
    {
     "data": {
      "text/plain": [
       "count    2.599400e+04\n",
       "mean     1.052075e+06\n",
       "std      6.184914e+05\n",
       "min      8.500000e+04\n",
       "25%      6.490000e+05\n",
       "50%      8.850000e+05\n",
       "75%      1.300000e+06\n",
       "max      1.120000e+07\n",
       "Name: Price, dtype: float64"
      ]
     },
     "execution_count": 102,
     "metadata": {},
     "output_type": "execute_result"
    }
   ],
   "source": [
    "mh['Price'].describe()"
   ]
  },
  {
   "cell_type": "code",
   "execution_count": 103,
   "metadata": {},
   "outputs": [
    {
     "data": {
      "image/png": "[encoded data removed]",
      "text/plain": [
       "<Figure size 432x288 with 1 Axes>"
      ]
     },
     "metadata": {
      "needs_background": "light"
     },
     "output_type": "display_data"
    }
   ],
   "source": [
    "sns.boxplot(mh['Price'])\n",
    "plt.show()"
   ]
  },
  {
   "cell_type": "code",
   "execution_count": 104,
   "metadata": {},
   "outputs": [
    {
     "data": {
      "text/plain": [
       "25994"
      ]
     },
     "execution_count": 104,
     "metadata": {},
     "output_type": "execute_result"
    }
   ],
   "source": [
    "len(mh[mh['Price']>ul])"
   ]
  },
  {
   "cell_type": "code",
   "execution_count": 105,
   "metadata": {},
   "outputs": [
    {
     "name": "stdout",
     "output_type": "stream",
     "text": [
      "-4534.0 19250.0\n"
     ]
    }
   ],
   "source": [
    "print(ll,ul)"
   ]
  },
  {
   "cell_type": "code",
   "execution_count": 106,
   "metadata": {},
   "outputs": [
    {
     "data": {
      "text/plain": [
       "7249"
      ]
     },
     "execution_count": 106,
     "metadata": {},
     "output_type": "execute_result"
    }
   ],
   "source": [
    "mh['Price'].isnull().sum()"
   ]
  },
  {
   "cell_type": "code",
   "execution_count": 107,
   "metadata": {
    "scrolled": true
   },
   "outputs": [
    {
     "data": {
      "text/plain": [
       "1100000.0    231\n",
       "600000.0     219\n",
       "800000.0     212\n",
       "1300000.0    209\n",
       "650000.0     206\n",
       "1000000.0    203\n",
       "1200000.0    201\n",
       "750000.0     189\n",
       "900000.0     187\n",
       "700000.0     187\n",
       "850000.0     172\n",
       "950000.0     171\n",
       "1250000.0    155\n",
       "1500000.0    152\n",
       "1400000.0    148\n",
       "1150000.0    144\n",
       "500000.0     138\n",
       "1050000.0    136\n",
       "550000.0     128\n",
       "780000.0     128\n",
       "770000.0     127\n",
       "720000.0     123\n",
       "1350000.0    122\n",
       "680000.0     119\n",
       "820000.0     118\n",
       "660000.0     117\n",
       "730000.0     117\n",
       "640000.0     114\n",
       "620000.0     114\n",
       "760000.0     112\n",
       "            ... \n",
       "903500.0       1\n",
       "2718000.0      1\n",
       "413500.0       1\n",
       "343000.0       1\n",
       "1490500.0      1\n",
       "1312500.0      1\n",
       "1097500.0      1\n",
       "2103000.0      1\n",
       "1282500.0      1\n",
       "613500.0       1\n",
       "590250.0       1\n",
       "1489000.0      1\n",
       "262500.0       1\n",
       "2714000.0      1\n",
       "1657000.0      1\n",
       "484852.0       1\n",
       "247500.0       1\n",
       "940750.0       1\n",
       "3501000.0      1\n",
       "372100.0       1\n",
       "1833000.0      1\n",
       "1522000.0      1\n",
       "334000.0       1\n",
       "1357500.0      1\n",
       "1677000.0      1\n",
       "1939000.0      1\n",
       "1334000.0      1\n",
       "678913.0       1\n",
       "707200.0       1\n",
       "563500.0       1\n",
       "Name: Price, Length: 2809, dtype: int64"
      ]
     },
     "execution_count": 107,
     "metadata": {},
     "output_type": "execute_result"
    }
   ],
   "source": [
    "mh['Price'].value_counts()"
   ]
  },
  {
   "cell_type": "code",
   "execution_count": 108,
   "metadata": {},
   "outputs": [
    {
     "data": {
      "text/plain": [
       "<matplotlib.axes._subplots.AxesSubplot at 0x278c80043c8>"
      ]
     },
     "execution_count": 108,
     "metadata": {},
     "output_type": "execute_result"
    },
    {
     "data": {
      "image/png": "[encoded data removed]",
      "text/plain": [
       "<Figure size 432x288 with 1 Axes>"
      ]
     },
     "metadata": {
      "needs_background": "light"
     },
     "output_type": "display_data"
    }
   ],
   "source": [
    "sns.distplot(mh['Price'].dropna())"
   ]
  },
  {
   "cell_type": "code",
   "execution_count": 109,
   "metadata": {},
   "outputs": [],
   "source": [
    "mh['lprice']=np.log(mh['Price'])"
   ]
  },
  {
   "cell_type": "code",
   "execution_count": 110,
   "metadata": {},
   "outputs": [
    {
     "data": {
      "text/plain": [
       "<matplotlib.axes._subplots.AxesSubplot at 0x278c80ccf60>"
      ]
     },
     "execution_count": 110,
     "metadata": {},
     "output_type": "execute_result"
    },
    {
     "data": {
      "image/png": "[encoded data removed]",
      "text/plain": [
       "<Figure size 432x288 with 1 Axes>"
      ]
     },
     "metadata": {
      "needs_background": "light"
     },
     "output_type": "display_data"
    }
   ],
   "source": [
    "sns.distplot(mh['lprice'].dropna())"
   ]
  },
  {
   "cell_type": "code",
   "execution_count": 111,
   "metadata": {},
   "outputs": [
    {
     "data": {
      "text/plain": [
       "7249"
      ]
     },
     "execution_count": 111,
     "metadata": {},
     "output_type": "execute_result"
    }
   ],
   "source": [
    "mh['lprice'].isnull().sum()"
   ]
  },
  {
   "cell_type": "code",
   "execution_count": 112,
   "metadata": {},
   "outputs": [
    {
     "data": {
      "text/plain": [
       "<matplotlib.axes._subplots.AxesSubplot at 0x278c87af780>"
      ]
     },
     "execution_count": 112,
     "metadata": {},
     "output_type": "execute_result"
    },
    {
     "data": {
      "image/png": "[encoded data removed]",
      "text/plain": [
       "<Figure size 432x288 with 1 Axes>"
      ]
     },
     "metadata": {
      "needs_background": "light"
     },
     "output_type": "display_data"
    }
   ],
   "source": [
    "sns.boxplot(mh['lprice'])"
   ]
  },
  {
   "cell_type": "code",
   "execution_count": 113,
   "metadata": {},
   "outputs": [],
   "source": [
    "q1=mh['lprice'].quantile(q=0.25)\n",
    "q3=mh['lprice'].quantile(q=0.75)\n",
    "iqr=q3-q1\n",
    "ll=q1-(1.5*iqr)\n",
    "ul=q3+(1.5*iqr)"
   ]
  },
  {
   "cell_type": "code",
   "execution_count": 114,
   "metadata": {},
   "outputs": [],
   "source": [
    "mh['lprice']=mh['lprice'].map(lambda x:np.NaN if ((x<ll)|(x>ul))else x)"
   ]
  },
  {
   "cell_type": "code",
   "execution_count": 115,
   "metadata": {},
   "outputs": [
    {
     "data": {
      "text/plain": [
       "7437"
      ]
     },
     "execution_count": 115,
     "metadata": {},
     "output_type": "execute_result"
    }
   ],
   "source": [
    "mh['lprice'].isnull().sum()"
   ]
  },
  {
   "cell_type": "code",
   "execution_count": 116,
   "metadata": {},
   "outputs": [],
   "source": [
    "mh['lprice'].fillna(method='bfill',inplace=True)"
   ]
  },
  {
   "cell_type": "code",
   "execution_count": 117,
   "metadata": {},
   "outputs": [
    {
     "data": {
      "text/plain": [
       "<matplotlib.axes._subplots.AxesSubplot at 0x278c882b1d0>"
      ]
     },
     "execution_count": 117,
     "metadata": {},
     "output_type": "execute_result"
    },
    {
     "data": {
      "image/png": "[encoded data removed]",
      "text/plain": [
       "<Figure size 432x288 with 1 Axes>"
      ]
     },
     "metadata": {
      "needs_background": "light"
     },
     "output_type": "display_data"
    }
   ],
   "source": [
    "sns.boxplot(mh['lprice'])"
   ]
  },
  {
   "cell_type": "markdown",
   "metadata": {},
   "source": [
    "# ANALYSIS"
   ]
  },
  {
   "cell_type": "code",
   "execution_count": 118,
   "metadata": {},
   "outputs": [
    {
     "name": "stdout",
     "output_type": "stream",
     "text": [
      "<class 'pandas.core.frame.DataFrame'>\n",
      "Int64Index: 33243 entries, 0 to 34856\n",
      "Data columns (total 23 columns):\n",
      "Suburb           33243 non-null object\n",
      "Address          33243 non-null object\n",
      "Rooms            33243 non-null int64\n",
      "Type             33243 non-null object\n",
      "Method           33243 non-null object\n",
      "SellerG          33243 non-null object\n",
      "Date             33243 non-null object\n",
      "Distance         33243 non-null float64\n",
      "Postcode         33243 non-null float64\n",
      "Bedroom          33243 non-null float64\n",
      "Bathroom         33243 non-null float64\n",
      "Car              33243 non-null float64\n",
      "Landsize         33243 non-null float64\n",
      "BuildingArea     12910 non-null object\n",
      "YearBuilt        33243 non-null float64\n",
      "CouncilArea      33240 non-null object\n",
      "Latitude         33243 non-null float64\n",
      "Longtitude       33243 non-null float64\n",
      "Regionname       33243 non-null object\n",
      "Propertycount    33243 non-null float64\n",
      "ParkingArea      33243 non-null object\n",
      "Price            25994 non-null float64\n",
      "lprice           33243 non-null float64\n",
      "dtypes: float64(12), int64(1), object(10)\n",
      "memory usage: 6.1+ MB\n"
     ]
    }
   ],
   "source": [
    "mh.info()"
   ]
  },
  {
   "cell_type": "code",
   "execution_count": 119,
   "metadata": {},
   "outputs": [
    {
     "data": {
      "image/png": "[encoded data removed]",
      "text/plain": [
       "<Figure size 1080x216 with 2 Axes>"
      ]
     },
     "metadata": {
      "needs_background": "light"
     },
     "output_type": "display_data"
    }
   ],
   "source": [
    "fig,ax=plt.subplots(figsize=(15,3))\n",
    "sns.heatmap(mh.corr(),annot=True)\n",
    "plt.show()"
   ]
  },
  {
   "cell_type": "code",
   "execution_count": 120,
   "metadata": {},
   "outputs": [
    {
     "data": {
      "text/plain": [
       "<matplotlib.axes._subplots.AxesSubplot at 0x278c8d05710>"
      ]
     },
     "execution_count": 120,
     "metadata": {},
     "output_type": "execute_result"
    },
    {
     "data": {
      "image/png": "[encoded data removed]",
      "text/plain": [
       "<Figure size 432x288 with 1 Axes>"
      ]
     },
     "metadata": {
      "needs_background": "light"
     },
     "output_type": "display_data"
    }
   ],
   "source": [
    "sns.barplot(data=mh,x='Rooms',y='Price')"
   ]
  },
  {
   "cell_type": "code",
   "execution_count": null,
   "metadata": {},
   "outputs": [],
   "source": [
    "sns.barplot(data=mh,x='Type',y='Price')"
   ]
  },
  {
   "cell_type": "code",
   "execution_count": null,
   "metadata": {},
   "outputs": [],
   "source": [
    "sns.countplot(data = mh,x = 'Address')"
   ]
  },
  {
   "cell_type": "code",
   "execution_count": null,
   "metadata": {},
   "outputs": [],
   "source": [
    "sns.barplot(data=mh,x='Rooms',y='Landsize')"
   ]
  },
  {
   "cell_type": "code",
   "execution_count": null,
   "metadata": {},
   "outputs": [],
   "source": []
  },
  {
   "cell_type": "code",
   "execution_count": null,
   "metadata": {},
   "outputs": [],
   "source": []
  }
 ],
 "metadata": {
  "kernelspec": {
   "display_name": "Python 3",
   "language": "python",
   "name": "python3"
  },
  "language_info": {
   "codemirror_mode": {
    "name": "ipython",
    "version": 3
   },
   "file_extension": ".py",
   "mimetype": "text/x-python",
   "name": "python",
   "nbconvert_exporter": "python",
   "pygments_lexer": "ipython3",
   "version": "3.7.1"
  }
 },
 "nbformat": 4,
 "nbformat_minor": 2
}
